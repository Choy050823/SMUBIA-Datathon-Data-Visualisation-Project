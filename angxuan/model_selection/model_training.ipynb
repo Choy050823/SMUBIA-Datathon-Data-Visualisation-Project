{
 "cells": [
  {
   "cell_type": "markdown",
   "metadata": {},
   "source": [
    "# MODEL"
   ]
  },
  {
   "cell_type": "code",
   "execution_count": 2,
   "metadata": {},
   "outputs": [],
   "source": [
    "import pandas as pd\n",
    "import numpy as np\n",
    "from wordcloud import WordCloud # for wordcloud\n",
    "import matplotlib.pyplot as plt # for wordcloud\n",
    "from sklearn.feature_extraction.text import TfidfVectorizer\n",
    "from sklearn.metrics import classification_report\n",
    "from sklearn.ensemble import RandomForestClassifier\n",
    "from gensim.models import Word2Vec\n",
    "from nltk.tokenize import word_tokenize\n",
    "import nltk\n",
    "from sklearn.linear_model import LogisticRegression\n",
    "from sklearn.model_selection import train_test_split"
   ]
  },
  {
   "cell_type": "code",
   "execution_count": null,
   "metadata": {},
   "outputs": [
    {
     "name": "stdout",
     "output_type": "stream",
     "text": [
      "      corporate and business topics  labor and employment issues  \\\n",
      "0                                 0                            0   \n",
      "1                                 0                            0   \n",
      "2                                 0                            0   \n",
      "3                                 0                            0   \n",
      "4                                 0                            0   \n",
      "...                             ...                          ...   \n",
      "1503                              0                            0   \n",
      "1504                              0                            0   \n",
      "1505                              0                            0   \n",
      "1506                              0                            0   \n",
      "1507                              0                            0   \n",
      "\n",
      "      privacy, security, and cyber matters  legal and crime stories  \\\n",
      "0                                        0                        0   \n",
      "1                                        0                        0   \n",
      "2                                        0                        0   \n",
      "3                                        0                        0   \n",
      "4                                        0                        0   \n",
      "...                                    ...                      ...   \n",
      "1503                                     0                        0   \n",
      "1504                                     0                        0   \n",
      "1505                                     0                        0   \n",
      "1506                                     0                        0   \n",
      "1507                                     0                        0   \n",
      "\n",
      "      government actions and regulations  technology and digital trends  \\\n",
      "0                                      0                              0   \n",
      "1                                      0                              0   \n",
      "2                                      0                              0   \n",
      "3                                      0                              0   \n",
      "4                                      0                              0   \n",
      "...                                  ...                            ...   \n",
      "1503                                   0                              0   \n",
      "1504                                   0                              0   \n",
      "1505                                   0                              0   \n",
      "1506                                   0                              0   \n",
      "1507                                   0                              0   \n",
      "\n",
      "      environment and climate topics  social issues and activism  \\\n",
      "0                                  0                           0   \n",
      "1                                  0                           0   \n",
      "2                                  0                           0   \n",
      "3                                  0                           0   \n",
      "4                                  0                           0   \n",
      "...                              ...                         ...   \n",
      "1503                               0                           0   \n",
      "1504                               0                           0   \n",
      "1505                               0                           0   \n",
      "1506                               0                           0   \n",
      "1507                               0                           0   \n",
      "\n",
      "      healthcare and medicine  community and cultural events  ...  \\\n",
      "0                           0                              0  ...   \n",
      "1                           0                              0  ...   \n",
      "2                           0                              0  ...   \n",
      "3                           0                              0  ...   \n",
      "4                           0                              0  ...   \n",
      "...                       ...                            ...  ...   \n",
      "1503                        0                              0  ...   \n",
      "1504                        0                              0  ...   \n",
      "1505                        0                              0  ...   \n",
      "1506                        0                              0  ...   \n",
      "1507                        0                              0  ...   \n",
      "\n",
      "      political topics and protests  media and communication  \\\n",
      "0                                 0                        0   \n",
      "1                                 0                        0   \n",
      "2                                 0                        0   \n",
      "3                                 0                        0   \n",
      "4                                 0                        0   \n",
      "...                             ...                      ...   \n",
      "1503                              0                        0   \n",
      "1504                              0                        0   \n",
      "1505                              0                        0   \n",
      "1506                              0                        0   \n",
      "1507                              0                        0   \n",
      "\n",
      "      financial policies and taxation  human rights and social justice  \\\n",
      "0                                   0                                0   \n",
      "1                                   0                                0   \n",
      "2                                   0                                0   \n",
      "3                                   0                                0   \n",
      "4                                   0                                0   \n",
      "...                               ...                              ...   \n",
      "1503                                0                                0   \n",
      "1504                                0                                0   \n",
      "1505                                0                                0   \n",
      "1506                                0                                0   \n",
      "1507                                0                                0   \n",
      "\n",
      "      science, research, and innovation  disaster and crisis management  \\\n",
      "0                                     0                               0   \n",
      "1                                     0                               0   \n",
      "2                                     0                               0   \n",
      "3                                     0                               0   \n",
      "4                                     0                               0   \n",
      "...                                 ...                             ...   \n",
      "1503                                  0                               0   \n",
      "1504                                  0                               0   \n",
      "1505                                  0                               0   \n",
      "1506                                  0                               0   \n",
      "1507                                  0                               0   \n",
      "\n",
      "      organized crime and trafficking  sports, entertainment, and leisure  \\\n",
      "0                                   0                                   0   \n",
      "1                                   0                                   0   \n",
      "2                                   0                                   0   \n",
      "3                                   0                                   0   \n",
      "4                                   0                                   0   \n",
      "...                               ...                                 ...   \n",
      "1503                                0                                   0   \n",
      "1504                                0                                   0   \n",
      "1505                                0                                   0   \n",
      "1506                                0                                   0   \n",
      "1507                                0                                   0   \n",
      "\n",
      "      other  military  \n",
      "0         0         0  \n",
      "1         0         0  \n",
      "2         0         0  \n",
      "3         0         0  \n",
      "4         0         0  \n",
      "...     ...       ...  \n",
      "1503      0         0  \n",
      "1504      0         0  \n",
      "1505      0         0  \n",
      "1506      0         0  \n",
      "1507      0         0  \n",
      "\n",
      "[1508 rows x 25 columns]\n"
     ]
    }
   ],
   "source": [
    "data = pd.read_csv('6_data_country_and_label.csv')\n",
    "\n",
    "data_x = data[\"summary\"]\n",
    "data_y = data[\"theme\"]\n",
    "\n",
    "categories = [\"corporate and business topics\", \n",
    "              \"labor and employment issues\", \n",
    "              \"privacy, security, and cyber matters\", \n",
    "              \"legal and crime stories\", \n",
    "              \"government actions and regulations\", \n",
    "              \"technology and digital trends\", \n",
    "              \"environment and climate topics\", \n",
    "              \"social issues and activism\", \n",
    "              \"healthcare and medicine\", \n",
    "              \"community and cultural events\", \n",
    "              \"international relations and trade\", \n",
    "              \"education and learning\", \n",
    "              \"consumer topics\", \n",
    "              \"infrastructure and development\", \n",
    "              \"energy and resources\", \n",
    "              \"political topics and protests\", \n",
    "              \"media and communication\", \n",
    "              \"financial policies and taxation\", \n",
    "              \"human rights and social justice\", \n",
    "              \"science, research, and innovation\", \n",
    "              \"disaster and crisis management\", \n",
    "              \"organized crime and trafficking\", \n",
    "              \"sports, entertainment, and leisure\", \n",
    "              \"other\", \n",
    "              \"military\"]\n",
    "\n",
    "y_encoded = []\n",
    "\n",
    "for each_theme in data_y:\n",
    "    each_row = []\n",
    "    for category in categories:\n",
    "        if category in each_theme:\n",
    "            each_row.append(1)\n",
    "        else:\n",
    "            each_row.append(0)\n",
    "    y_encoded.append(each_row)\n",
    "\n",
    "# convert to dataframe\n",
    "y_encoded = pd.DataFrame(y_encoded, columns = categories)\n",
    "\n",
    "print(y_encoded)"
   ]
  },
  {
   "cell_type": "markdown",
   "metadata": {},
   "source": [
    "## TFIDF (ngram range test accuracy to tune the preprocessing), countvectorizer (ngram range test accuracy to tune the preprocessing), word2vec, bert (not necessary)"
   ]
  },
  {
   "cell_type": "markdown",
   "metadata": {},
   "source": [
    "### TDIDF"
   ]
  },
  {
   "cell_type": "code",
   "execution_count": 18,
   "metadata": {},
   "outputs": [],
   "source": [
    "# word pattern\n",
    "pattern = r\"[a-zA-Z]+\"\n",
    "\n",
    "vectorizer = TfidfVectorizer(\n",
    "    token_pattern = pattern, \n",
    "    stop_words = 'english', \n",
    "    ngram_range = (1, 2), # need to do the hyperparameter tuning for this later\n",
    "    max_features = 100000 # can adjust to larger num too\n",
    ")\n",
    "\n",
    "vectorizer.fit(data[\"summary\"])\n",
    "\n",
    "# tokenization - create matrix\n",
    "tokenized_features = vectorizer.transform(data[\"summary\"])\n",
    "\n",
    "# create a dataframe\n",
    "features = pd.DataFrame(\n",
    "    data = tokenized_features.toarray(), \n",
    "    columns = vectorizer.get_feature_names_out()\n",
    ")\n",
    "\n",
    "# print(len(vectorizer.get_feature_names_out()))\n",
    "\n",
    "data[\"char_count\"] = data[\"summary\"].str.count(r\"\\S\")\n",
    "data[\"word_count\"] = data[\"summary\"].str.count(pattern)\n",
    "data[\"avg_word_length\"] = data[\"char_count\"] / data_x[\"word_count\"]\n",
    "\n",
    "data_x = pd.concat([features, data.loc[:, \"char_count\": ]], axis = 1)\n",
    "# data_y = data[\"theme\"]"
   ]
  },
  {
   "cell_type": "markdown",
   "metadata": {},
   "source": [
    "### Word2Vec - word embeddings"
   ]
  },
  {
   "cell_type": "code",
   "execution_count": null,
   "metadata": {},
   "outputs": [
    {
     "name": "stdout",
     "output_type": "stream",
     "text": [
      "accuracy:  0.09880636604774536\n"
     ]
    }
   ],
   "source": [
    "# tokenize all the sentences\n",
    "tokenized_sentences = [word_tokenize(each_line[0].lower()) for each_line in data]\n",
    "\n",
    "# train word2vec model\n",
    "word2vec_model = Word2Vec(\n",
    "    sentences = tokenized_sentences, \n",
    "    vector_size = 1000, \n",
    "    window = 5, \n",
    "    min_count = 1, \n",
    "    workers = 4\n",
    ")\n",
    "\n",
    "# generate document vectors\n",
    "def vectorize_doc(each_line):\n",
    "    # remove out of vocab words\n",
    "    words = [word for word in each_line if word in word2vec_model.wv]\n",
    "    return np.mean(word2vec_model.wv[words], axis = 0) if words else np.zeros(word2vec_model.vector_size)\n",
    "\n",
    "# create feature vectors \n",
    "data_x = np.array([vectorize_doc(word_tokenize(each_line.lower())) for each_line in data[\"cleaned_summary\"]])\n",
    "data_y = np.array([each_line.lower() for each_line in data[\"theme\"]])"
   ]
  },
  {
   "cell_type": "markdown",
   "metadata": {},
   "source": [
    "## logistic regression (softmax regression), support vector machine, bert, decision trees, random forest classifier, gradient boosting algorithm, KNN, neural networks (not necessary for small datasets), naive bayes classifier"
   ]
  },
  {
   "cell_type": "code",
   "execution_count": null,
   "metadata": {},
   "outputs": [],
   "source": []
  },
  {
   "cell_type": "code",
   "execution_count": 29,
   "metadata": {},
   "outputs": [],
   "source": [
    "train_x, test_x, train_y, test_y = train_test_split(\n",
    "    data_x, \n",
    "    y_encoded, \n",
    "    test_size = 0.6, \n",
    "    stratify = None, \n",
    "    random_state = 59\n",
    ")"
   ]
  },
  {
   "cell_type": "markdown",
   "metadata": {},
   "source": [
    "### logistic regression (softmax regression)"
   ]
  },
  {
   "cell_type": "code",
   "execution_count": 19,
   "metadata": {},
   "outputs": [
    {
     "ename": "ValueError",
     "evalue": "The least populated class in y has only 1 member, which is too few. The minimum number of groups for any class cannot be less than 2.",
     "output_type": "error",
     "traceback": [
      "\u001b[1;31m---------------------------------------------------------------------------\u001b[0m",
      "\u001b[1;31mValueError\u001b[0m                                Traceback (most recent call last)",
      "Cell \u001b[1;32mIn[19], line 1\u001b[0m\n\u001b[1;32m----> 1\u001b[0m train_x, test_x \u001b[38;5;241m=\u001b[39m \u001b[43mtrain_test_split\u001b[49m\u001b[43m(\u001b[49m\n\u001b[0;32m      2\u001b[0m \u001b[43m    \u001b[49m\u001b[43mdata\u001b[49m\u001b[43m[\u001b[49m\u001b[38;5;124;43m\"\u001b[39;49m\u001b[38;5;124;43msummary\u001b[39;49m\u001b[38;5;124;43m\"\u001b[39;49m\u001b[43m]\u001b[49m\u001b[43m,\u001b[49m\u001b[43m \u001b[49m\n\u001b[0;32m      3\u001b[0m \u001b[43m    \u001b[49m\u001b[43mtest_size\u001b[49m\u001b[43m \u001b[49m\u001b[38;5;241;43m=\u001b[39;49m\u001b[43m \u001b[49m\u001b[38;5;241;43m0.1\u001b[39;49m\u001b[43m,\u001b[49m\u001b[43m \u001b[49m\n\u001b[0;32m      4\u001b[0m \u001b[43m    \u001b[49m\u001b[43mstratify\u001b[49m\u001b[43m \u001b[49m\u001b[38;5;241;43m=\u001b[39;49m\u001b[43m \u001b[49m\u001b[43mdata\u001b[49m\u001b[43m[\u001b[49m\u001b[38;5;124;43m\"\u001b[39;49m\u001b[38;5;124;43mtheme\u001b[39;49m\u001b[38;5;124;43m\"\u001b[39;49m\u001b[43m]\u001b[49m\u001b[43m,\u001b[49m\u001b[43m \u001b[49m\n\u001b[0;32m      5\u001b[0m \u001b[43m    \u001b[49m\u001b[43mrandom_state\u001b[49m\u001b[43m \u001b[49m\u001b[38;5;241;43m=\u001b[39;49m\u001b[43m \u001b[49m\u001b[38;5;241;43m59\u001b[39;49m\n\u001b[0;32m      6\u001b[0m \u001b[43m)\u001b[49m\n\u001b[0;32m      8\u001b[0m train_y, test_y \u001b[38;5;241m=\u001b[39m train_test_split(\n\u001b[0;32m      9\u001b[0m     y_encoded, \n\u001b[0;32m     10\u001b[0m     test_size \u001b[38;5;241m=\u001b[39m \u001b[38;5;241m0.1\u001b[39m, \n\u001b[0;32m     11\u001b[0m     stratify \u001b[38;5;241m=\u001b[39m data[\u001b[38;5;124m\"\u001b[39m\u001b[38;5;124mtheme\u001b[39m\u001b[38;5;124m\"\u001b[39m], \n\u001b[0;32m     12\u001b[0m     random_state \u001b[38;5;241m=\u001b[39m \u001b[38;5;241m59\u001b[39m\n\u001b[0;32m     13\u001b[0m )\n\u001b[0;32m     15\u001b[0m \u001b[38;5;66;03m# logistic regression\u001b[39;00m\n",
      "File \u001b[1;32mc:\\Users\\axlee\\AppData\\Local\\Programs\\Python\\Python312\\Lib\\site-packages\\sklearn\\utils\\_param_validation.py:213\u001b[0m, in \u001b[0;36mvalidate_params.<locals>.decorator.<locals>.wrapper\u001b[1;34m(*args, **kwargs)\u001b[0m\n\u001b[0;32m    207\u001b[0m \u001b[38;5;28;01mtry\u001b[39;00m:\n\u001b[0;32m    208\u001b[0m     \u001b[38;5;28;01mwith\u001b[39;00m config_context(\n\u001b[0;32m    209\u001b[0m         skip_parameter_validation\u001b[38;5;241m=\u001b[39m(\n\u001b[0;32m    210\u001b[0m             prefer_skip_nested_validation \u001b[38;5;129;01mor\u001b[39;00m global_skip_validation\n\u001b[0;32m    211\u001b[0m         )\n\u001b[0;32m    212\u001b[0m     ):\n\u001b[1;32m--> 213\u001b[0m         \u001b[38;5;28;01mreturn\u001b[39;00m \u001b[43mfunc\u001b[49m\u001b[43m(\u001b[49m\u001b[38;5;241;43m*\u001b[39;49m\u001b[43margs\u001b[49m\u001b[43m,\u001b[49m\u001b[43m \u001b[49m\u001b[38;5;241;43m*\u001b[39;49m\u001b[38;5;241;43m*\u001b[39;49m\u001b[43mkwargs\u001b[49m\u001b[43m)\u001b[49m\n\u001b[0;32m    214\u001b[0m \u001b[38;5;28;01mexcept\u001b[39;00m InvalidParameterError \u001b[38;5;28;01mas\u001b[39;00m e:\n\u001b[0;32m    215\u001b[0m     \u001b[38;5;66;03m# When the function is just a wrapper around an estimator, we allow\u001b[39;00m\n\u001b[0;32m    216\u001b[0m     \u001b[38;5;66;03m# the function to delegate validation to the estimator, but we replace\u001b[39;00m\n\u001b[0;32m    217\u001b[0m     \u001b[38;5;66;03m# the name of the estimator by the name of the function in the error\u001b[39;00m\n\u001b[0;32m    218\u001b[0m     \u001b[38;5;66;03m# message to avoid confusion.\u001b[39;00m\n\u001b[0;32m    219\u001b[0m     msg \u001b[38;5;241m=\u001b[39m re\u001b[38;5;241m.\u001b[39msub(\n\u001b[0;32m    220\u001b[0m         \u001b[38;5;124mr\u001b[39m\u001b[38;5;124m\"\u001b[39m\u001b[38;5;124mparameter of \u001b[39m\u001b[38;5;124m\\\u001b[39m\u001b[38;5;124mw+ must be\u001b[39m\u001b[38;5;124m\"\u001b[39m,\n\u001b[0;32m    221\u001b[0m         \u001b[38;5;124mf\u001b[39m\u001b[38;5;124m\"\u001b[39m\u001b[38;5;124mparameter of \u001b[39m\u001b[38;5;132;01m{\u001b[39;00mfunc\u001b[38;5;241m.\u001b[39m\u001b[38;5;18m__qualname__\u001b[39m\u001b[38;5;132;01m}\u001b[39;00m\u001b[38;5;124m must be\u001b[39m\u001b[38;5;124m\"\u001b[39m,\n\u001b[0;32m    222\u001b[0m         \u001b[38;5;28mstr\u001b[39m(e),\n\u001b[0;32m    223\u001b[0m     )\n",
      "File \u001b[1;32mc:\\Users\\axlee\\AppData\\Local\\Programs\\Python\\Python312\\Lib\\site-packages\\sklearn\\model_selection\\_split.py:2806\u001b[0m, in \u001b[0;36mtrain_test_split\u001b[1;34m(test_size, train_size, random_state, shuffle, stratify, *arrays)\u001b[0m\n\u001b[0;32m   2802\u001b[0m         CVClass \u001b[38;5;241m=\u001b[39m ShuffleSplit\n\u001b[0;32m   2804\u001b[0m     cv \u001b[38;5;241m=\u001b[39m CVClass(test_size\u001b[38;5;241m=\u001b[39mn_test, train_size\u001b[38;5;241m=\u001b[39mn_train, random_state\u001b[38;5;241m=\u001b[39mrandom_state)\n\u001b[1;32m-> 2806\u001b[0m     train, test \u001b[38;5;241m=\u001b[39m \u001b[38;5;28;43mnext\u001b[39;49m\u001b[43m(\u001b[49m\u001b[43mcv\u001b[49m\u001b[38;5;241;43m.\u001b[39;49m\u001b[43msplit\u001b[49m\u001b[43m(\u001b[49m\u001b[43mX\u001b[49m\u001b[38;5;241;43m=\u001b[39;49m\u001b[43marrays\u001b[49m\u001b[43m[\u001b[49m\u001b[38;5;241;43m0\u001b[39;49m\u001b[43m]\u001b[49m\u001b[43m,\u001b[49m\u001b[43m \u001b[49m\u001b[43my\u001b[49m\u001b[38;5;241;43m=\u001b[39;49m\u001b[43mstratify\u001b[49m\u001b[43m)\u001b[49m\u001b[43m)\u001b[49m\n\u001b[0;32m   2808\u001b[0m train, test \u001b[38;5;241m=\u001b[39m ensure_common_namespace_device(arrays[\u001b[38;5;241m0\u001b[39m], train, test)\n\u001b[0;32m   2810\u001b[0m \u001b[38;5;28;01mreturn\u001b[39;00m \u001b[38;5;28mlist\u001b[39m(\n\u001b[0;32m   2811\u001b[0m     chain\u001b[38;5;241m.\u001b[39mfrom_iterable(\n\u001b[0;32m   2812\u001b[0m         (_safe_indexing(a, train), _safe_indexing(a, test)) \u001b[38;5;28;01mfor\u001b[39;00m a \u001b[38;5;129;01min\u001b[39;00m arrays\n\u001b[0;32m   2813\u001b[0m     )\n\u001b[0;32m   2814\u001b[0m )\n",
      "File \u001b[1;32mc:\\Users\\axlee\\AppData\\Local\\Programs\\Python\\Python312\\Lib\\site-packages\\sklearn\\model_selection\\_split.py:1843\u001b[0m, in \u001b[0;36mBaseShuffleSplit.split\u001b[1;34m(self, X, y, groups)\u001b[0m\n\u001b[0;32m   1813\u001b[0m \u001b[38;5;250m\u001b[39m\u001b[38;5;124;03m\"\"\"Generate indices to split data into training and test set.\u001b[39;00m\n\u001b[0;32m   1814\u001b[0m \n\u001b[0;32m   1815\u001b[0m \u001b[38;5;124;03mParameters\u001b[39;00m\n\u001b[1;32m   (...)\u001b[0m\n\u001b[0;32m   1840\u001b[0m \u001b[38;5;124;03mto an integer.\u001b[39;00m\n\u001b[0;32m   1841\u001b[0m \u001b[38;5;124;03m\"\"\"\u001b[39;00m\n\u001b[0;32m   1842\u001b[0m X, y, groups \u001b[38;5;241m=\u001b[39m indexable(X, y, groups)\n\u001b[1;32m-> 1843\u001b[0m \u001b[43m\u001b[49m\u001b[38;5;28;43;01mfor\u001b[39;49;00m\u001b[43m \u001b[49m\u001b[43mtrain\u001b[49m\u001b[43m,\u001b[49m\u001b[43m \u001b[49m\u001b[43mtest\u001b[49m\u001b[43m \u001b[49m\u001b[38;5;129;43;01min\u001b[39;49;00m\u001b[43m \u001b[49m\u001b[38;5;28;43mself\u001b[39;49m\u001b[38;5;241;43m.\u001b[39;49m\u001b[43m_iter_indices\u001b[49m\u001b[43m(\u001b[49m\u001b[43mX\u001b[49m\u001b[43m,\u001b[49m\u001b[43m \u001b[49m\u001b[43my\u001b[49m\u001b[43m,\u001b[49m\u001b[43m \u001b[49m\u001b[43mgroups\u001b[49m\u001b[43m)\u001b[49m\u001b[43m:\u001b[49m\n\u001b[0;32m   1844\u001b[0m \u001b[43m    \u001b[49m\u001b[38;5;28;43;01myield\u001b[39;49;00m\u001b[43m \u001b[49m\u001b[43mtrain\u001b[49m\u001b[43m,\u001b[49m\u001b[43m \u001b[49m\u001b[43mtest\u001b[49m\n",
      "File \u001b[1;32mc:\\Users\\axlee\\AppData\\Local\\Programs\\Python\\Python312\\Lib\\site-packages\\sklearn\\model_selection\\_split.py:2252\u001b[0m, in \u001b[0;36mStratifiedShuffleSplit._iter_indices\u001b[1;34m(self, X, y, groups)\u001b[0m\n\u001b[0;32m   2250\u001b[0m class_counts \u001b[38;5;241m=\u001b[39m np\u001b[38;5;241m.\u001b[39mbincount(y_indices)\n\u001b[0;32m   2251\u001b[0m \u001b[38;5;28;01mif\u001b[39;00m np\u001b[38;5;241m.\u001b[39mmin(class_counts) \u001b[38;5;241m<\u001b[39m \u001b[38;5;241m2\u001b[39m:\n\u001b[1;32m-> 2252\u001b[0m     \u001b[38;5;28;01mraise\u001b[39;00m \u001b[38;5;167;01mValueError\u001b[39;00m(\n\u001b[0;32m   2253\u001b[0m         \u001b[38;5;124m\"\u001b[39m\u001b[38;5;124mThe least populated class in y has only 1\u001b[39m\u001b[38;5;124m\"\u001b[39m\n\u001b[0;32m   2254\u001b[0m         \u001b[38;5;124m\"\u001b[39m\u001b[38;5;124m member, which is too few. The minimum\u001b[39m\u001b[38;5;124m\"\u001b[39m\n\u001b[0;32m   2255\u001b[0m         \u001b[38;5;124m\"\u001b[39m\u001b[38;5;124m number of groups for any class cannot\u001b[39m\u001b[38;5;124m\"\u001b[39m\n\u001b[0;32m   2256\u001b[0m         \u001b[38;5;124m\"\u001b[39m\u001b[38;5;124m be less than 2.\u001b[39m\u001b[38;5;124m\"\u001b[39m\n\u001b[0;32m   2257\u001b[0m     )\n\u001b[0;32m   2259\u001b[0m \u001b[38;5;28;01mif\u001b[39;00m n_train \u001b[38;5;241m<\u001b[39m n_classes:\n\u001b[0;32m   2260\u001b[0m     \u001b[38;5;28;01mraise\u001b[39;00m \u001b[38;5;167;01mValueError\u001b[39;00m(\n\u001b[0;32m   2261\u001b[0m         \u001b[38;5;124m\"\u001b[39m\u001b[38;5;124mThe train_size = \u001b[39m\u001b[38;5;132;01m%d\u001b[39;00m\u001b[38;5;124m should be greater or \u001b[39m\u001b[38;5;124m\"\u001b[39m\n\u001b[0;32m   2262\u001b[0m         \u001b[38;5;124m\"\u001b[39m\u001b[38;5;124mequal to the number of classes = \u001b[39m\u001b[38;5;132;01m%d\u001b[39;00m\u001b[38;5;124m\"\u001b[39m \u001b[38;5;241m%\u001b[39m (n_train, n_classes)\n\u001b[0;32m   2263\u001b[0m     )\n",
      "\u001b[1;31mValueError\u001b[0m: The least populated class in y has only 1 member, which is too few. The minimum number of groups for any class cannot be less than 2."
     ]
    }
   ],
   "source": [
    "train_x, test_x = train_test_split(\n",
    "    data[\"summary\"], \n",
    "    test_size = 0.1, \n",
    "    stratify = data[\"theme\"], \n",
    "    random_state = 59\n",
    ")\n",
    "\n",
    "train_y, test_y = train_test_split(\n",
    "    y_encoded, \n",
    "    test_size = 0.1, \n",
    "    stratify = data[\"theme\"], \n",
    "    random_state = 59\n",
    ")\n",
    "\n",
    "# logistic regression\n",
    "model = LogisticRegression()\n",
    "model.fit(train_x, train_y)\n",
    "\n",
    "# evaluating the model\n",
    "accuracy = model.score(test_x, test_y)\n",
    "print(\"accuracy: \" , accuracy)"
   ]
  },
  {
   "cell_type": "markdown",
   "metadata": {},
   "source": [
    "### sigmoid activation function"
   ]
  },
  {
   "cell_type": "code",
   "execution_count": 20,
   "metadata": {},
   "outputs": [],
   "source": [
    "import tensorflow as tf\n",
    "from tensorflow.keras.models import Sequential\n",
    "from tensorflow.keras.layers import Dense, Embedding, GlobalAveragePooling1D\n",
    "from tensorflow.keras.optimizers import Adam"
   ]
  },
  {
   "cell_type": "markdown",
   "metadata": {},
   "source": [
    "#### train model"
   ]
  },
  {
   "cell_type": "code",
   "execution_count": 22,
   "metadata": {},
   "outputs": [
    {
     "name": "stderr",
     "output_type": "stream",
     "text": [
      "c:\\Users\\axlee\\AppData\\Local\\Programs\\Python\\Python312\\Lib\\site-packages\\keras\\src\\layers\\core\\embedding.py:90: UserWarning: Argument `input_length` is deprecated. Just remove it.\n",
      "  warnings.warn(\n"
     ]
    },
    {
     "data": {
      "text/html": [
       "<pre style=\"white-space:pre;overflow-x:auto;line-height:normal;font-family:Menlo,'DejaVu Sans Mono',consolas,'Courier New',monospace\"><span style=\"font-weight: bold\">Model: \"sequential\"</span>\n",
       "</pre>\n"
      ],
      "text/plain": [
       "\u001b[1mModel: \"sequential\"\u001b[0m\n"
      ]
     },
     "metadata": {},
     "output_type": "display_data"
    },
    {
     "data": {
      "text/html": [
       "<pre style=\"white-space:pre;overflow-x:auto;line-height:normal;font-family:Menlo,'DejaVu Sans Mono',consolas,'Courier New',monospace\">┏━━━━━━━━━━━━━━━━━━━━━━━━━━━━━━━━━┳━━━━━━━━━━━━━━━━━━━━━━━━┳━━━━━━━━━━━━━━━┓\n",
       "┃<span style=\"font-weight: bold\"> Layer (type)                    </span>┃<span style=\"font-weight: bold\"> Output Shape           </span>┃<span style=\"font-weight: bold\">       Param # </span>┃\n",
       "┡━━━━━━━━━━━━━━━━━━━━━━━━━━━━━━━━━╇━━━━━━━━━━━━━━━━━━━━━━━━╇━━━━━━━━━━━━━━━┩\n",
       "│ embedding (<span style=\"color: #0087ff; text-decoration-color: #0087ff\">Embedding</span>)           │ ?                      │   <span style=\"color: #00af00; text-decoration-color: #00af00\">0</span> (unbuilt) │\n",
       "├─────────────────────────────────┼────────────────────────┼───────────────┤\n",
       "│ global_average_pooling1d        │ ?                      │             <span style=\"color: #00af00; text-decoration-color: #00af00\">0</span> │\n",
       "│ (<span style=\"color: #0087ff; text-decoration-color: #0087ff\">GlobalAveragePooling1D</span>)        │                        │               │\n",
       "├─────────────────────────────────┼────────────────────────┼───────────────┤\n",
       "│ dense (<span style=\"color: #0087ff; text-decoration-color: #0087ff\">Dense</span>)                   │ ?                      │   <span style=\"color: #00af00; text-decoration-color: #00af00\">0</span> (unbuilt) │\n",
       "├─────────────────────────────────┼────────────────────────┼───────────────┤\n",
       "│ dense_1 (<span style=\"color: #0087ff; text-decoration-color: #0087ff\">Dense</span>)                 │ ?                      │   <span style=\"color: #00af00; text-decoration-color: #00af00\">0</span> (unbuilt) │\n",
       "└─────────────────────────────────┴────────────────────────┴───────────────┘\n",
       "</pre>\n"
      ],
      "text/plain": [
       "┏━━━━━━━━━━━━━━━━━━━━━━━━━━━━━━━━━┳━━━━━━━━━━━━━━━━━━━━━━━━┳━━━━━━━━━━━━━━━┓\n",
       "┃\u001b[1m \u001b[0m\u001b[1mLayer (type)                   \u001b[0m\u001b[1m \u001b[0m┃\u001b[1m \u001b[0m\u001b[1mOutput Shape          \u001b[0m\u001b[1m \u001b[0m┃\u001b[1m \u001b[0m\u001b[1m      Param #\u001b[0m\u001b[1m \u001b[0m┃\n",
       "┡━━━━━━━━━━━━━━━━━━━━━━━━━━━━━━━━━╇━━━━━━━━━━━━━━━━━━━━━━━━╇━━━━━━━━━━━━━━━┩\n",
       "│ embedding (\u001b[38;5;33mEmbedding\u001b[0m)           │ ?                      │   \u001b[38;5;34m0\u001b[0m (unbuilt) │\n",
       "├─────────────────────────────────┼────────────────────────┼───────────────┤\n",
       "│ global_average_pooling1d        │ ?                      │             \u001b[38;5;34m0\u001b[0m │\n",
       "│ (\u001b[38;5;33mGlobalAveragePooling1D\u001b[0m)        │                        │               │\n",
       "├─────────────────────────────────┼────────────────────────┼───────────────┤\n",
       "│ dense (\u001b[38;5;33mDense\u001b[0m)                   │ ?                      │   \u001b[38;5;34m0\u001b[0m (unbuilt) │\n",
       "├─────────────────────────────────┼────────────────────────┼───────────────┤\n",
       "│ dense_1 (\u001b[38;5;33mDense\u001b[0m)                 │ ?                      │   \u001b[38;5;34m0\u001b[0m (unbuilt) │\n",
       "└─────────────────────────────────┴────────────────────────┴───────────────┘\n"
      ]
     },
     "metadata": {},
     "output_type": "display_data"
    },
    {
     "data": {
      "text/html": [
       "<pre style=\"white-space:pre;overflow-x:auto;line-height:normal;font-family:Menlo,'DejaVu Sans Mono',consolas,'Courier New',monospace\"><span style=\"font-weight: bold\"> Total params: </span><span style=\"color: #00af00; text-decoration-color: #00af00\">0</span> (0.00 B)\n",
       "</pre>\n"
      ],
      "text/plain": [
       "\u001b[1m Total params: \u001b[0m\u001b[38;5;34m0\u001b[0m (0.00 B)\n"
      ]
     },
     "metadata": {},
     "output_type": "display_data"
    },
    {
     "data": {
      "text/html": [
       "<pre style=\"white-space:pre;overflow-x:auto;line-height:normal;font-family:Menlo,'DejaVu Sans Mono',consolas,'Courier New',monospace\"><span style=\"font-weight: bold\"> Trainable params: </span><span style=\"color: #00af00; text-decoration-color: #00af00\">0</span> (0.00 B)\n",
       "</pre>\n"
      ],
      "text/plain": [
       "\u001b[1m Trainable params: \u001b[0m\u001b[38;5;34m0\u001b[0m (0.00 B)\n"
      ]
     },
     "metadata": {},
     "output_type": "display_data"
    },
    {
     "data": {
      "text/html": [
       "<pre style=\"white-space:pre;overflow-x:auto;line-height:normal;font-family:Menlo,'DejaVu Sans Mono',consolas,'Courier New',monospace\"><span style=\"font-weight: bold\"> Non-trainable params: </span><span style=\"color: #00af00; text-decoration-color: #00af00\">0</span> (0.00 B)\n",
       "</pre>\n"
      ],
      "text/plain": [
       "\u001b[1m Non-trainable params: \u001b[0m\u001b[38;5;34m0\u001b[0m (0.00 B)\n"
      ]
     },
     "metadata": {},
     "output_type": "display_data"
    }
   ],
   "source": [
    "vocab_size = 100000\n",
    "num_of_categories = len(categories)\n",
    "\n",
    "model = Sequential([\n",
    "    Embedding(input_dim = vocab_size, \n",
    "              output_dim = num_of_categories, \n",
    "              input_length = 1000\n",
    "              ),\n",
    "    GlobalAveragePooling1D(), \n",
    "    Dense(64, activation = \"relu\"), # hidden layer\n",
    "    Dense(num_of_categories, activation = \"sigmoid\")\n",
    "])\n",
    "\n",
    "model.compile(optimizer = Adam(), \n",
    "              loss = \"binary_crossentropy\", \n",
    "              metrics = [\"accuracy\"])\n",
    "\n",
    "model.summary()"
   ]
  },
  {
   "cell_type": "markdown",
   "metadata": {},
   "source": [
    "#### fit the model"
   ]
  },
  {
   "cell_type": "code",
   "execution_count": 30,
   "metadata": {},
   "outputs": [
    {
     "name": "stdout",
     "output_type": "stream",
     "text": [
      "Epoch 1/10\n",
      "\u001b[1m16/16\u001b[0m \u001b[32m━━━━━━━━━━━━━━━━━━━━\u001b[0m\u001b[37m\u001b[0m \u001b[1m3s\u001b[0m 124ms/step - accuracy: 0.0025 - loss: 0.4462 - val_accuracy: 0.0000e+00 - val_loss: 0.0414\n",
      "Epoch 2/10\n",
      "\u001b[1m16/16\u001b[0m \u001b[32m━━━━━━━━━━━━━━━━━━━━\u001b[0m\u001b[37m\u001b[0m \u001b[1m1s\u001b[0m 72ms/step - accuracy: 0.0000e+00 - loss: 0.0284 - val_accuracy: 0.0165 - val_loss: 0.0102\n",
      "Epoch 3/10\n",
      "\u001b[1m16/16\u001b[0m \u001b[32m━━━━━━━━━━━━━━━━━━━━\u001b[0m\u001b[37m\u001b[0m \u001b[1m1s\u001b[0m 66ms/step - accuracy: 0.0096 - loss: 0.0177 - val_accuracy: 0.0165 - val_loss: 0.0098\n",
      "Epoch 4/10\n",
      "\u001b[1m16/16\u001b[0m \u001b[32m━━━━━━━━━━━━━━━━━━━━\u001b[0m\u001b[37m\u001b[0m \u001b[1m1s\u001b[0m 68ms/step - accuracy: 0.0085 - loss: 0.0115 - val_accuracy: 0.0083 - val_loss: 0.0099\n",
      "Epoch 5/10\n",
      "\u001b[1m16/16\u001b[0m \u001b[32m━━━━━━━━━━━━━━━━━━━━\u001b[0m\u001b[37m\u001b[0m \u001b[1m1s\u001b[0m 66ms/step - accuracy: 0.0186 - loss: 0.0120 - val_accuracy: 0.0165 - val_loss: 0.0099\n",
      "Epoch 6/10\n",
      "\u001b[1m16/16\u001b[0m \u001b[32m━━━━━━━━━━━━━━━━━━━━\u001b[0m\u001b[37m\u001b[0m \u001b[1m1s\u001b[0m 68ms/step - accuracy: 0.0054 - loss: 0.0086 - val_accuracy: 0.0165 - val_loss: 0.0096\n",
      "Epoch 7/10\n",
      "\u001b[1m16/16\u001b[0m \u001b[32m━━━━━━━━━━━━━━━━━━━━\u001b[0m\u001b[37m\u001b[0m \u001b[1m1s\u001b[0m 75ms/step - accuracy: 0.0090 - loss: 0.0137 - val_accuracy: 0.0083 - val_loss: 0.0100\n",
      "Epoch 8/10\n",
      "\u001b[1m16/16\u001b[0m \u001b[32m━━━━━━━━━━━━━━━━━━━━\u001b[0m\u001b[37m\u001b[0m \u001b[1m1s\u001b[0m 82ms/step - accuracy: 0.0131 - loss: 0.0098 - val_accuracy: 0.0165 - val_loss: 0.0095\n",
      "Epoch 9/10\n",
      "\u001b[1m16/16\u001b[0m \u001b[32m━━━━━━━━━━━━━━━━━━━━\u001b[0m\u001b[37m\u001b[0m \u001b[1m1s\u001b[0m 73ms/step - accuracy: 0.0165 - loss: 0.0133 - val_accuracy: 0.0165 - val_loss: 0.0097\n",
      "Epoch 10/10\n",
      "\u001b[1m16/16\u001b[0m \u001b[32m━━━━━━━━━━━━━━━━━━━━\u001b[0m\u001b[37m\u001b[0m \u001b[1m1s\u001b[0m 73ms/step - accuracy: 0.0143 - loss: 0.0133 - val_accuracy: 0.0165 - val_loss: 0.0097\n"
     ]
    },
    {
     "data": {
      "text/plain": [
       "<keras.src.callbacks.history.History at 0x1204af94e30>"
      ]
     },
     "execution_count": 30,
     "metadata": {},
     "output_type": "execute_result"
    }
   ],
   "source": [
    "model.fit(train_x, \n",
    "          train_y, \n",
    "          epochs = 10, \n",
    "          batch_size = 32, \n",
    "          validation_split = 0.2)"
   ]
  },
  {
   "cell_type": "markdown",
   "metadata": {},
   "source": [
    "#### predict using the model (test_x)"
   ]
  },
  {
   "cell_type": "code",
   "execution_count": 38,
   "metadata": {},
   "outputs": [
    {
     "name": "stdout",
     "output_type": "stream",
     "text": [
      "\u001b[1m29/29\u001b[0m \u001b[32m━━━━━━━━━━━━━━━━━━━━\u001b[0m\u001b[37m\u001b[0m \u001b[1m1s\u001b[0m 17ms/step\n",
      "[['international relations and trade'], ['international relations and trade'], ['international relations and trade'], ['international relations and trade'], ['international relations and trade'], ['international relations and trade'], ['international relations and trade'], ['international relations and trade'], ['international relations and trade'], ['international relations and trade'], ['international relations and trade'], ['international relations and trade'], ['international relations and trade'], ['international relations and trade'], ['international relations and trade'], ['international relations and trade'], ['international relations and trade'], ['international relations and trade'], ['international relations and trade'], ['international relations and trade'], ['international relations and trade'], ['international relations and trade'], ['international relations and trade'], ['international relations and trade'], ['international relations and trade'], ['international relations and trade'], ['international relations and trade'], ['international relations and trade'], ['international relations and trade'], ['international relations and trade'], ['international relations and trade'], ['international relations and trade'], ['international relations and trade'], ['international relations and trade'], ['international relations and trade'], ['international relations and trade'], ['international relations and trade'], ['international relations and trade'], ['international relations and trade'], ['international relations and trade'], ['international relations and trade'], ['international relations and trade'], ['international relations and trade'], ['international relations and trade'], ['international relations and trade'], ['international relations and trade'], ['international relations and trade'], ['international relations and trade'], ['international relations and trade'], ['international relations and trade'], ['international relations and trade'], ['international relations and trade'], ['international relations and trade'], ['international relations and trade'], ['international relations and trade'], ['international relations and trade'], ['international relations and trade'], ['international relations and trade'], ['international relations and trade'], ['international relations and trade'], ['international relations and trade'], ['international relations and trade'], ['international relations and trade'], ['international relations and trade'], ['international relations and trade'], ['international relations and trade'], ['international relations and trade'], ['international relations and trade'], ['international relations and trade'], ['international relations and trade'], ['international relations and trade'], ['international relations and trade'], ['international relations and trade'], ['international relations and trade'], ['international relations and trade'], ['international relations and trade'], ['international relations and trade'], ['international relations and trade'], ['international relations and trade'], ['international relations and trade'], ['international relations and trade'], ['international relations and trade'], ['international relations and trade'], ['international relations and trade'], ['international relations and trade'], ['international relations and trade'], ['international relations and trade'], ['international relations and trade'], ['international relations and trade'], ['international relations and trade'], ['international relations and trade'], ['international relations and trade'], ['international relations and trade'], ['international relations and trade'], ['international relations and trade'], ['international relations and trade'], ['international relations and trade'], ['international relations and trade'], ['international relations and trade'], ['international relations and trade'], ['international relations and trade'], ['international relations and trade'], ['international relations and trade'], ['international relations and trade'], ['international relations and trade'], ['international relations and trade'], ['international relations and trade'], ['international relations and trade'], ['international relations and trade'], ['international relations and trade'], ['international relations and trade'], ['international relations and trade'], ['international relations and trade'], ['international relations and trade'], ['international relations and trade'], ['international relations and trade'], ['international relations and trade'], ['international relations and trade'], ['international relations and trade'], ['international relations and trade'], ['international relations and trade'], ['international relations and trade'], ['international relations and trade'], ['international relations and trade'], ['international relations and trade'], ['international relations and trade'], ['international relations and trade'], ['international relations and trade'], ['international relations and trade'], ['international relations and trade'], ['international relations and trade'], ['international relations and trade'], ['international relations and trade'], ['international relations and trade'], ['international relations and trade'], ['international relations and trade'], ['international relations and trade'], ['international relations and trade'], ['international relations and trade'], ['international relations and trade'], ['international relations and trade'], ['international relations and trade'], ['international relations and trade'], ['international relations and trade'], ['international relations and trade'], ['international relations and trade'], ['international relations and trade'], ['international relations and trade'], ['international relations and trade'], ['international relations and trade'], ['international relations and trade'], ['international relations and trade'], ['international relations and trade'], ['international relations and trade'], ['international relations and trade'], ['international relations and trade'], ['international relations and trade'], ['international relations and trade'], ['international relations and trade'], ['international relations and trade'], ['international relations and trade'], ['international relations and trade'], ['international relations and trade'], ['international relations and trade'], ['international relations and trade'], ['international relations and trade'], ['international relations and trade'], ['international relations and trade'], ['international relations and trade'], ['international relations and trade'], ['international relations and trade'], ['international relations and trade'], ['international relations and trade'], ['international relations and trade'], ['international relations and trade'], ['international relations and trade'], ['international relations and trade'], ['international relations and trade'], ['international relations and trade'], ['international relations and trade'], ['international relations and trade'], ['international relations and trade'], ['international relations and trade'], ['international relations and trade'], ['international relations and trade'], ['international relations and trade'], ['international relations and trade'], ['international relations and trade'], ['international relations and trade'], ['international relations and trade'], ['international relations and trade'], ['international relations and trade'], ['international relations and trade'], ['international relations and trade'], ['international relations and trade'], ['international relations and trade'], ['international relations and trade'], ['international relations and trade'], ['international relations and trade'], ['international relations and trade'], ['international relations and trade'], ['international relations and trade'], ['international relations and trade'], ['international relations and trade'], ['international relations and trade'], ['international relations and trade'], ['international relations and trade'], ['international relations and trade'], ['international relations and trade'], ['international relations and trade'], ['international relations and trade'], ['international relations and trade'], ['international relations and trade'], ['international relations and trade'], ['international relations and trade'], ['international relations and trade'], ['international relations and trade'], ['international relations and trade'], ['international relations and trade'], ['international relations and trade'], ['international relations and trade'], ['international relations and trade'], ['international relations and trade'], ['international relations and trade'], ['international relations and trade'], ['international relations and trade'], ['international relations and trade'], ['international relations and trade'], ['international relations and trade'], ['international relations and trade'], ['international relations and trade'], ['international relations and trade'], ['international relations and trade'], ['international relations and trade'], ['international relations and trade'], ['international relations and trade'], ['international relations and trade'], ['international relations and trade'], ['international relations and trade'], ['international relations and trade'], ['international relations and trade'], ['international relations and trade'], ['international relations and trade'], ['international relations and trade'], ['international relations and trade'], ['international relations and trade'], ['international relations and trade'], ['international relations and trade'], ['international relations and trade'], ['international relations and trade'], ['international relations and trade'], ['international relations and trade'], ['international relations and trade'], ['international relations and trade'], ['international relations and trade'], ['international relations and trade'], ['international relations and trade'], ['international relations and trade'], ['international relations and trade'], ['international relations and trade'], ['international relations and trade'], ['international relations and trade'], ['international relations and trade'], ['international relations and trade'], ['international relations and trade'], ['international relations and trade'], ['international relations and trade'], ['international relations and trade'], ['international relations and trade'], ['international relations and trade'], ['international relations and trade'], ['international relations and trade'], ['international relations and trade'], ['international relations and trade'], ['international relations and trade'], ['international relations and trade'], ['international relations and trade'], ['international relations and trade'], ['international relations and trade'], ['international relations and trade'], ['international relations and trade'], ['international relations and trade'], ['international relations and trade'], ['international relations and trade'], ['international relations and trade'], ['international relations and trade'], ['international relations and trade'], ['international relations and trade'], ['international relations and trade'], ['international relations and trade'], ['international relations and trade'], ['international relations and trade'], ['international relations and trade'], ['international relations and trade'], ['international relations and trade'], ['international relations and trade'], ['international relations and trade'], ['international relations and trade'], ['international relations and trade'], ['international relations and trade'], ['international relations and trade'], ['international relations and trade'], ['international relations and trade'], ['international relations and trade'], ['international relations and trade'], ['international relations and trade'], ['international relations and trade'], ['international relations and trade'], ['international relations and trade'], ['international relations and trade'], ['international relations and trade'], ['international relations and trade'], ['international relations and trade'], ['international relations and trade'], ['international relations and trade'], ['international relations and trade'], ['international relations and trade'], ['international relations and trade'], ['international relations and trade'], ['international relations and trade'], ['international relations and trade'], ['international relations and trade'], ['international relations and trade'], ['international relations and trade'], ['international relations and trade'], ['international relations and trade'], ['international relations and trade'], ['international relations and trade'], ['international relations and trade'], ['international relations and trade'], ['international relations and trade'], ['international relations and trade'], ['international relations and trade'], ['international relations and trade'], ['international relations and trade'], ['international relations and trade'], ['international relations and trade'], ['international relations and trade'], ['international relations and trade'], ['international relations and trade'], ['international relations and trade'], ['international relations and trade'], ['international relations and trade'], ['international relations and trade'], ['international relations and trade'], ['international relations and trade'], ['international relations and trade'], ['international relations and trade'], ['international relations and trade'], ['international relations and trade'], ['international relations and trade'], ['international relations and trade'], ['international relations and trade'], ['international relations and trade'], ['international relations and trade'], ['international relations and trade'], ['international relations and trade'], ['international relations and trade'], ['international relations and trade'], ['international relations and trade'], ['international relations and trade'], ['international relations and trade'], ['international relations and trade'], ['international relations and trade'], ['international relations and trade'], ['international relations and trade'], ['international relations and trade'], ['international relations and trade'], ['international relations and trade'], ['international relations and trade'], ['international relations and trade'], ['international relations and trade'], ['international relations and trade'], ['international relations and trade'], ['international relations and trade'], ['international relations and trade'], ['international relations and trade'], ['international relations and trade'], ['international relations and trade'], ['international relations and trade'], ['international relations and trade'], ['international relations and trade'], ['international relations and trade'], ['international relations and trade'], ['international relations and trade'], ['international relations and trade'], ['international relations and trade'], ['international relations and trade'], ['international relations and trade'], ['international relations and trade'], ['international relations and trade'], ['international relations and trade'], ['international relations and trade'], ['international relations and trade'], ['international relations and trade'], ['international relations and trade'], ['international relations and trade'], ['international relations and trade'], ['international relations and trade'], ['international relations and trade'], ['international relations and trade'], ['international relations and trade'], ['international relations and trade'], ['international relations and trade'], ['international relations and trade'], ['international relations and trade'], ['international relations and trade'], ['international relations and trade'], ['international relations and trade'], ['international relations and trade'], ['international relations and trade'], ['international relations and trade'], ['international relations and trade'], ['international relations and trade'], ['international relations and trade'], ['international relations and trade'], ['international relations and trade'], ['international relations and trade'], ['international relations and trade'], ['international relations and trade'], ['international relations and trade'], ['international relations and trade'], ['international relations and trade'], ['international relations and trade'], ['international relations and trade'], ['international relations and trade'], ['international relations and trade'], ['international relations and trade'], ['international relations and trade'], ['international relations and trade'], ['international relations and trade'], ['international relations and trade'], ['international relations and trade'], ['international relations and trade'], ['international relations and trade'], ['international relations and trade'], ['international relations and trade'], ['international relations and trade'], ['international relations and trade'], ['international relations and trade'], ['international relations and trade'], ['international relations and trade'], ['international relations and trade'], ['international relations and trade'], ['international relations and trade'], ['international relations and trade'], ['international relations and trade'], ['international relations and trade'], ['international relations and trade'], ['international relations and trade'], ['international relations and trade'], ['international relations and trade'], ['international relations and trade'], ['international relations and trade'], ['international relations and trade'], ['international relations and trade'], ['international relations and trade'], ['international relations and trade'], ['international relations and trade'], ['international relations and trade'], ['international relations and trade'], ['international relations and trade'], ['international relations and trade'], ['international relations and trade'], ['international relations and trade'], ['international relations and trade'], ['international relations and trade'], ['international relations and trade'], ['international relations and trade'], ['international relations and trade'], ['international relations and trade'], ['international relations and trade'], ['international relations and trade'], ['international relations and trade'], ['international relations and trade'], ['international relations and trade'], ['international relations and trade'], ['international relations and trade'], ['international relations and trade'], ['international relations and trade'], ['international relations and trade'], ['international relations and trade'], ['international relations and trade'], ['international relations and trade'], ['international relations and trade'], ['international relations and trade'], ['international relations and trade'], ['international relations and trade'], ['international relations and trade'], ['international relations and trade'], ['international relations and trade'], ['international relations and trade'], ['international relations and trade'], ['international relations and trade'], ['international relations and trade'], ['international relations and trade'], ['international relations and trade'], ['international relations and trade'], ['international relations and trade'], ['international relations and trade'], ['international relations and trade'], ['international relations and trade'], ['international relations and trade'], ['international relations and trade'], ['international relations and trade'], ['international relations and trade'], ['international relations and trade'], ['international relations and trade'], ['international relations and trade'], ['international relations and trade'], ['international relations and trade'], ['international relations and trade'], ['international relations and trade'], ['international relations and trade'], ['international relations and trade'], ['international relations and trade'], ['international relations and trade'], ['international relations and trade'], ['international relations and trade'], ['international relations and trade'], ['international relations and trade'], ['international relations and trade'], ['international relations and trade'], ['international relations and trade'], ['international relations and trade'], ['international relations and trade'], ['international relations and trade'], ['international relations and trade'], ['international relations and trade'], ['international relations and trade'], ['international relations and trade'], ['international relations and trade'], ['international relations and trade'], ['international relations and trade'], ['international relations and trade'], ['international relations and trade'], ['international relations and trade'], ['international relations and trade'], ['international relations and trade'], ['international relations and trade'], ['international relations and trade'], ['international relations and trade'], ['international relations and trade'], ['international relations and trade'], ['international relations and trade'], ['international relations and trade'], ['international relations and trade'], ['international relations and trade'], ['international relations and trade'], ['international relations and trade'], ['international relations and trade'], ['international relations and trade'], ['international relations and trade'], ['international relations and trade'], ['international relations and trade'], ['international relations and trade'], ['international relations and trade'], ['international relations and trade'], ['international relations and trade'], ['international relations and trade'], ['international relations and trade'], ['international relations and trade'], ['international relations and trade'], ['international relations and trade'], ['international relations and trade'], ['international relations and trade'], ['international relations and trade'], ['international relations and trade'], ['international relations and trade'], ['international relations and trade'], ['international relations and trade'], ['international relations and trade'], ['international relations and trade'], ['international relations and trade'], ['international relations and trade'], ['international relations and trade'], ['international relations and trade'], ['international relations and trade'], ['international relations and trade'], ['international relations and trade'], ['international relations and trade'], ['international relations and trade'], ['international relations and trade'], ['international relations and trade'], ['international relations and trade'], ['international relations and trade'], ['international relations and trade'], ['international relations and trade'], ['international relations and trade'], ['international relations and trade'], ['international relations and trade'], ['international relations and trade'], ['international relations and trade'], ['international relations and trade'], ['international relations and trade'], ['international relations and trade'], ['international relations and trade'], ['international relations and trade'], ['international relations and trade'], ['international relations and trade'], ['international relations and trade'], ['international relations and trade'], ['international relations and trade'], ['international relations and trade'], ['international relations and trade'], ['international relations and trade'], ['international relations and trade'], ['international relations and trade'], ['international relations and trade'], ['international relations and trade'], ['international relations and trade'], ['international relations and trade'], ['international relations and trade'], ['international relations and trade'], ['international relations and trade'], ['international relations and trade'], ['international relations and trade'], ['international relations and trade'], ['international relations and trade'], ['international relations and trade'], ['international relations and trade'], ['international relations and trade'], ['international relations and trade'], ['international relations and trade'], ['international relations and trade'], ['international relations and trade'], ['international relations and trade'], ['international relations and trade'], ['international relations and trade'], ['international relations and trade'], ['international relations and trade'], ['international relations and trade'], ['international relations and trade'], ['international relations and trade'], ['international relations and trade'], ['international relations and trade'], ['international relations and trade'], ['international relations and trade'], ['international relations and trade'], ['international relations and trade'], ['international relations and trade'], ['international relations and trade'], ['international relations and trade'], ['international relations and trade'], ['international relations and trade'], ['international relations and trade'], ['international relations and trade'], ['international relations and trade'], ['international relations and trade'], ['international relations and trade'], ['international relations and trade'], ['international relations and trade'], ['international relations and trade'], ['international relations and trade'], ['international relations and trade'], ['international relations and trade'], ['international relations and trade'], ['international relations and trade'], ['international relations and trade'], ['international relations and trade'], ['international relations and trade'], ['international relations and trade'], ['international relations and trade'], ['international relations and trade'], ['international relations and trade'], ['international relations and trade'], ['international relations and trade'], ['international relations and trade'], ['international relations and trade'], ['international relations and trade'], ['international relations and trade'], ['international relations and trade'], ['international relations and trade'], ['international relations and trade'], ['international relations and trade'], ['international relations and trade'], ['international relations and trade'], ['international relations and trade'], ['international relations and trade'], ['international relations and trade'], ['international relations and trade'], ['international relations and trade'], ['international relations and trade'], ['international relations and trade'], ['international relations and trade'], ['international relations and trade'], ['international relations and trade'], ['international relations and trade'], ['international relations and trade'], ['international relations and trade'], ['international relations and trade'], ['international relations and trade'], ['international relations and trade'], ['international relations and trade'], ['international relations and trade'], ['international relations and trade'], ['international relations and trade'], ['international relations and trade'], ['international relations and trade'], ['international relations and trade'], ['international relations and trade'], ['international relations and trade'], ['international relations and trade'], ['international relations and trade'], ['international relations and trade'], ['international relations and trade'], ['international relations and trade'], ['international relations and trade'], ['international relations and trade'], ['international relations and trade'], ['international relations and trade'], ['international relations and trade'], ['international relations and trade'], ['international relations and trade'], ['international relations and trade'], ['international relations and trade'], ['international relations and trade'], ['international relations and trade'], ['international relations and trade'], ['international relations and trade'], ['international relations and trade'], ['international relations and trade'], ['international relations and trade'], ['international relations and trade'], ['international relations and trade'], ['international relations and trade'], ['international relations and trade'], ['international relations and trade'], ['international relations and trade'], ['international relations and trade'], ['international relations and trade'], ['international relations and trade'], ['international relations and trade'], ['international relations and trade'], ['international relations and trade'], ['international relations and trade'], ['international relations and trade'], ['international relations and trade'], ['international relations and trade'], ['international relations and trade'], ['international relations and trade'], ['international relations and trade'], ['international relations and trade'], ['international relations and trade'], ['international relations and trade'], ['international relations and trade'], ['international relations and trade'], ['international relations and trade'], ['international relations and trade'], ['international relations and trade'], ['international relations and trade'], ['international relations and trade'], ['international relations and trade'], ['international relations and trade'], ['international relations and trade'], ['international relations and trade'], ['international relations and trade'], ['international relations and trade'], ['international relations and trade'], ['international relations and trade'], ['international relations and trade'], ['international relations and trade'], ['international relations and trade'], ['international relations and trade'], ['international relations and trade'], ['international relations and trade'], ['international relations and trade'], ['international relations and trade'], ['international relations and trade'], ['international relations and trade'], ['international relations and trade'], ['international relations and trade'], ['international relations and trade'], ['international relations and trade'], ['international relations and trade'], ['international relations and trade'], ['international relations and trade'], ['international relations and trade'], ['international relations and trade'], ['international relations and trade'], ['international relations and trade'], ['international relations and trade'], ['international relations and trade'], ['international relations and trade'], ['international relations and trade'], ['international relations and trade'], ['international relations and trade'], ['international relations and trade'], ['international relations and trade'], ['international relations and trade'], ['international relations and trade'], ['international relations and trade'], ['international relations and trade'], ['international relations and trade'], ['international relations and trade'], ['international relations and trade'], ['international relations and trade'], ['international relations and trade'], ['international relations and trade'], ['international relations and trade'], ['international relations and trade'], ['international relations and trade'], ['international relations and trade'], ['international relations and trade'], ['international relations and trade'], ['international relations and trade'], ['international relations and trade'], ['international relations and trade'], ['international relations and trade'], ['international relations and trade'], ['international relations and trade'], ['international relations and trade'], ['international relations and trade'], ['international relations and trade'], ['international relations and trade'], ['international relations and trade'], ['international relations and trade'], ['international relations and trade'], ['international relations and trade'], ['international relations and trade'], ['international relations and trade'], ['international relations and trade'], ['international relations and trade'], ['international relations and trade'], ['international relations and trade'], ['international relations and trade'], ['international relations and trade'], ['international relations and trade'], ['international relations and trade'], ['international relations and trade'], ['international relations and trade'], ['international relations and trade'], ['international relations and trade'], ['international relations and trade'], ['international relations and trade'], ['international relations and trade'], ['international relations and trade'], ['international relations and trade'], ['international relations and trade'], ['international relations and trade'], ['international relations and trade'], ['international relations and trade'], ['international relations and trade'], ['international relations and trade'], ['international relations and trade'], ['international relations and trade'], ['international relations and trade'], ['international relations and trade'], ['international relations and trade'], ['international relations and trade'], ['international relations and trade'], ['international relations and trade'], ['international relations and trade'], ['international relations and trade'], ['international relations and trade'], ['international relations and trade'], ['international relations and trade'], ['international relations and trade'], ['international relations and trade'], ['international relations and trade'], ['international relations and trade'], ['international relations and trade'], ['international relations and trade'], ['international relations and trade'], ['international relations and trade'], ['international relations and trade'], ['international relations and trade'], ['international relations and trade'], ['international relations and trade'], ['international relations and trade'], ['international relations and trade'], ['international relations and trade'], ['international relations and trade'], ['international relations and trade'], ['international relations and trade'], ['international relations and trade'], ['international relations and trade'], ['international relations and trade'], ['international relations and trade'], ['international relations and trade'], ['international relations and trade'], ['international relations and trade'], ['international relations and trade'], ['international relations and trade'], ['international relations and trade'], ['international relations and trade'], ['international relations and trade'], ['international relations and trade'], ['international relations and trade'], ['international relations and trade'], ['international relations and trade'], ['international relations and trade'], ['international relations and trade'], ['international relations and trade'], ['international relations and trade'], ['international relations and trade'], ['international relations and trade'], ['international relations and trade'], ['international relations and trade'], ['international relations and trade'], ['international relations and trade'], ['international relations and trade'], ['international relations and trade'], ['international relations and trade'], ['international relations and trade']]\n"
     ]
    }
   ],
   "source": [
    "prediction = model.predict(test_x)\n",
    "pred = (prediction > 0.01).astype(int)\n",
    "pred_theme = [[categories[i] for i in range(len(categories)) if pred[j, i] == 1] for j in range(len(pred))]\n",
    "\n",
    "print(pred_theme)"
   ]
  },
  {
   "cell_type": "markdown",
   "metadata": {},
   "source": [
    "#### Evaluation of model"
   ]
  },
  {
   "cell_type": "code",
   "execution_count": 42,
   "metadata": {},
   "outputs": [
    {
     "name": "stdout",
     "output_type": "stream",
     "text": [
      "                                      precision    recall  f1-score   support\n",
      "\n",
      "       corporate and business topics       0.00      0.00      0.00         3\n",
      "         labor and employment issues       0.00      0.00      0.00         0\n",
      "privacy, security, and cyber matters       0.00      0.00      0.00         0\n",
      "             legal and crime stories       0.00      0.00      0.00         0\n",
      "  government actions and regulations       0.00      0.00      0.00         0\n",
      "       technology and digital trends       0.00      0.00      0.00         5\n",
      "      environment and climate topics       0.00      0.00      0.00         2\n",
      "          social issues and activism       0.00      0.00      0.00         0\n",
      "             healthcare and medicine       0.00      0.00      0.00         1\n",
      "       community and cultural events       0.00      0.00      0.00         1\n",
      "   international relations and trade       0.01      1.00      0.02        10\n",
      "              education and learning       0.00      0.00      0.00         0\n",
      "                     consumer topics       0.00      0.00      0.00         2\n",
      "      infrastructure and development       0.00      0.00      0.00         1\n",
      "                energy and resources       0.00      0.00      0.00         0\n",
      "       political topics and protests       0.00      0.00      0.00         5\n",
      "             media and communication       0.00      0.00      0.00         2\n",
      "     financial policies and taxation       0.00      0.00      0.00         0\n",
      "     human rights and social justice       0.00      0.00      0.00         0\n",
      "   science, research, and innovation       0.00      0.00      0.00         0\n",
      "      disaster and crisis management       0.00      0.00      0.00         0\n",
      "     organized crime and trafficking       0.00      0.00      0.00         0\n",
      "  sports, entertainment, and leisure       0.00      0.00      0.00         0\n",
      "                               other       0.00      0.00      0.00         6\n",
      "                            military       0.00      0.00      0.00        18\n",
      "\n",
      "                           micro avg       0.01      0.18      0.02        56\n",
      "                           macro avg       0.00      0.04      0.00        56\n",
      "                        weighted avg       0.00      0.18      0.00        56\n",
      "                         samples avg       0.01      0.01      0.01        56\n",
      "\n"
     ]
    },
    {
     "name": "stderr",
     "output_type": "stream",
     "text": [
      "c:\\Users\\axlee\\AppData\\Local\\Programs\\Python\\Python312\\Lib\\site-packages\\sklearn\\metrics\\_classification.py:1531: UndefinedMetricWarning: Precision is ill-defined and being set to 0.0 in labels with no predicted samples. Use `zero_division` parameter to control this behavior.\n",
      "  _warn_prf(average, modifier, f\"{metric.capitalize()} is\", len(result))\n",
      "c:\\Users\\axlee\\AppData\\Local\\Programs\\Python\\Python312\\Lib\\site-packages\\sklearn\\metrics\\_classification.py:1531: UndefinedMetricWarning: Recall is ill-defined and being set to 0.0 in labels with no true samples. Use `zero_division` parameter to control this behavior.\n",
      "  _warn_prf(average, modifier, f\"{metric.capitalize()} is\", len(result))\n",
      "c:\\Users\\axlee\\AppData\\Local\\Programs\\Python\\Python312\\Lib\\site-packages\\sklearn\\metrics\\_classification.py:1531: UndefinedMetricWarning: F-score is ill-defined and being set to 0.0 in labels with no true nor predicted samples. Use `zero_division` parameter to control this behavior.\n",
      "  _warn_prf(average, modifier, f\"{metric.capitalize()} is\", len(result))\n",
      "c:\\Users\\axlee\\AppData\\Local\\Programs\\Python\\Python312\\Lib\\site-packages\\sklearn\\metrics\\_classification.py:1531: UndefinedMetricWarning: Recall is ill-defined and being set to 0.0 in samples with no true labels. Use `zero_division` parameter to control this behavior.\n",
      "  _warn_prf(average, modifier, f\"{metric.capitalize()} is\", len(result))\n"
     ]
    }
   ],
   "source": [
    "from sklearn.metrics import classification_report\n",
    "print(classification_report(\n",
    "    test_y, \n",
    "    pred, \n",
    "    target_names = categories\n",
    "))\n",
    "\n",
    "\n",
    "\n",
    "# # Hamming Loss (the lower the better)\n",
    "# from sklearn.metrics import hamming_loss\n",
    "# hl = hamming_loss(test_y, pred)\n",
    "# print(\"Hamming Loss: \", hl)\n",
    "\n",
    "# # F1 score (the higher the better)\n",
    "# from sklearn.metrics import f1_score\n",
    "# f1 = f1_score(\n",
    "#     test_y, \n",
    "#     pred, \n",
    "#     average = \"macro\"\n",
    "# )\n",
    "# print(\"F1 Score: \", f1)\n"
   ]
  }
 ],
 "metadata": {
  "kernelspec": {
   "display_name": "Python 3",
   "language": "python",
   "name": "python3"
  },
  "language_info": {
   "codemirror_mode": {
    "name": "ipython",
    "version": 3
   },
   "file_extension": ".py",
   "mimetype": "text/x-python",
   "name": "python",
   "nbconvert_exporter": "python",
   "pygments_lexer": "ipython3",
   "version": "3.12.1"
  }
 },
 "nbformat": 4,
 "nbformat_minor": 2
}
