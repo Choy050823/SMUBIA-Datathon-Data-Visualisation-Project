{
 "cells": [
  {
   "cell_type": "markdown",
   "metadata": {},
   "source": [
    "# MODEL"
   ]
  },
  {
   "cell_type": "code",
   "execution_count": 2,
   "metadata": {},
   "outputs": [],
   "source": [
    "import pandas as pd\n",
    "import numpy as np\n",
    "from wordcloud import WordCloud # for wordcloud\n",
    "import matplotlib.pyplot as plt # for wordcloud\n",
    "from sklearn.feature_extraction.text import TfidfVectorizer\n",
    "from sklearn.metrics import classification_report\n",
    "from sklearn.ensemble import RandomForestClassifier\n",
    "from gensim.models import Word2Vec\n",
    "from nltk.tokenize import word_tokenize\n",
    "import nltk\n",
    "from sklearn.linear_model import LogisticRegression\n",
    "from sklearn.model_selection import train_test_split"
   ]
  },
  {
   "cell_type": "code",
   "execution_count": 79,
   "metadata": {},
   "outputs": [
    {
     "name": "stdout",
     "output_type": "stream",
     "text": [
      "     corporate and business topics  labor and employment issues  \\\n",
      "0                                1                            0   \n",
      "1                                1                            0   \n",
      "2                                0                            1   \n",
      "3                                0                            1   \n",
      "4                                0                            0   \n",
      "..                             ...                          ...   \n",
      "99                               1                            0   \n",
      "100                              1                            0   \n",
      "101                              0                            0   \n",
      "102                              1                            0   \n",
      "103                              0                            0   \n",
      "\n",
      "     privacy, security, and cyber matters  legal and crime stories  \\\n",
      "0                                       0                        0   \n",
      "1                                       0                        0   \n",
      "2                                       0                        0   \n",
      "3                                       0                        0   \n",
      "4                                       1                        0   \n",
      "..                                    ...                      ...   \n",
      "99                                      0                        0   \n",
      "100                                     0                        0   \n",
      "101                                     0                        0   \n",
      "102                                     0                        0   \n",
      "103                                     0                        0   \n",
      "\n",
      "     government actions and regulations  technology and digital trends  \\\n",
      "0                                     0                              0   \n",
      "1                                     0                              0   \n",
      "2                                     0                              0   \n",
      "3                                     0                              0   \n",
      "4                                     0                              0   \n",
      "..                                  ...                            ...   \n",
      "99                                    0                              1   \n",
      "100                                   0                              1   \n",
      "101                                   0                              1   \n",
      "102                                   0                              1   \n",
      "103                                   0                              0   \n",
      "\n",
      "     environment and climate topics  social issues and activism  \\\n",
      "0                                 0                           0   \n",
      "1                                 0                           0   \n",
      "2                                 0                           0   \n",
      "3                                 0                           0   \n",
      "4                                 0                           0   \n",
      "..                              ...                         ...   \n",
      "99                                0                           0   \n",
      "100                               0                           0   \n",
      "101                               0                           0   \n",
      "102                               0                           0   \n",
      "103                               0                           1   \n",
      "\n",
      "     healthcare and medicine  community and cultural events  ...  \\\n",
      "0                          0                              0  ...   \n",
      "1                          0                              0  ...   \n",
      "2                          0                              0  ...   \n",
      "3                          0                              0  ...   \n",
      "4                          0                              0  ...   \n",
      "..                       ...                            ...  ...   \n",
      "99                         0                              0  ...   \n",
      "100                        0                              0  ...   \n",
      "101                        0                              0  ...   \n",
      "102                        0                              0  ...   \n",
      "103                        0                              0  ...   \n",
      "\n",
      "     political topics and protests  media and communication  \\\n",
      "0                                0                        0   \n",
      "1                                0                        0   \n",
      "2                                0                        0   \n",
      "3                                0                        0   \n",
      "4                                0                        0   \n",
      "..                             ...                      ...   \n",
      "99                               0                        0   \n",
      "100                              0                        0   \n",
      "101                              0                        0   \n",
      "102                              0                        0   \n",
      "103                              0                        1   \n",
      "\n",
      "     financial policies and taxation  human rights and social justice  \\\n",
      "0                                  0                                0   \n",
      "1                                  0                                0   \n",
      "2                                  0                                0   \n",
      "3                                  0                                0   \n",
      "4                                  0                                0   \n",
      "..                               ...                              ...   \n",
      "99                                 0                                0   \n",
      "100                                0                                0   \n",
      "101                                0                                0   \n",
      "102                                0                                0   \n",
      "103                                0                                0   \n",
      "\n",
      "     science, research, and innovation  disaster and crisis management  \\\n",
      "0                                    0                               0   \n",
      "1                                    0                               0   \n",
      "2                                    0                               0   \n",
      "3                                    0                               0   \n",
      "4                                    0                               0   \n",
      "..                                 ...                             ...   \n",
      "99                                   0                               0   \n",
      "100                                  0                               0   \n",
      "101                                  0                               0   \n",
      "102                                  0                               0   \n",
      "103                                  0                               0   \n",
      "\n",
      "     organized crime and trafficking  sports, entertainment, and leisure  \\\n",
      "0                                  0                                   0   \n",
      "1                                  0                                   0   \n",
      "2                                  0                                   0   \n",
      "3                                  0                                   0   \n",
      "4                                  0                                   0   \n",
      "..                               ...                                 ...   \n",
      "99                                 0                                   0   \n",
      "100                                0                                   0   \n",
      "101                                0                                   0   \n",
      "102                                0                                   0   \n",
      "103                                0                                   0   \n",
      "\n",
      "     other  military  \n",
      "0        0         0  \n",
      "1        0         0  \n",
      "2        0         0  \n",
      "3        0         0  \n",
      "4        0         0  \n",
      "..     ...       ...  \n",
      "99       0         0  \n",
      "100      0         0  \n",
      "101      0         0  \n",
      "102      0         0  \n",
      "103      0         0  \n",
      "\n",
      "[104 rows x 25 columns]\n"
     ]
    }
   ],
   "source": [
    "test_data = pd.read_csv('6_data_country_and_label.csv')\n",
    "# import a more balance train data\n",
    "train_data = pd.read_csv('balance_data.csv') # find balance data from the first 600 data\n",
    "\n",
    "test_x = test_data[\"summary\"]\n",
    "test_y = test_data[\"theme\"]\n",
    "\n",
    "train_x = train_data[\"summary\"]\n",
    "train_y = train_data[\"theme\"]\n",
    "\n",
    "categories = [\"corporate and business topics\", \n",
    "              \"labor and employment issues\", \n",
    "              \"privacy, security, and cyber matters\", \n",
    "              \"legal and crime stories\", \n",
    "              \"government actions and regulations\", \n",
    "              \"technology and digital trends\", \n",
    "              \"environment and climate topics\", \n",
    "              \"social issues and activism\", \n",
    "              \"healthcare and medicine\", \n",
    "              \"community and cultural events\", \n",
    "              \"international relations and trade\", \n",
    "              \"education and learning\", \n",
    "              \"consumer topics\", \n",
    "              \"infrastructure and development\", \n",
    "              \"energy and resources\", \n",
    "              \"political topics and protests\", \n",
    "              \"media and communication\", \n",
    "              \"financial policies and taxation\", \n",
    "              \"human rights and social justice\", \n",
    "              \"science, research, and innovation\", \n",
    "              \"disaster and crisis management\", \n",
    "              \"organized crime and trafficking\", \n",
    "              \"sports, entertainment, and leisure\", \n",
    "              \"other\", \n",
    "              \"military\"]\n",
    "\n",
    "y_encoded = []\n",
    "\n",
    "for each_theme in train_y:\n",
    "    each_row = []\n",
    "    for category in categories:\n",
    "        if category in each_theme.lower():\n",
    "            each_row.append(1)\n",
    "        else:\n",
    "            each_row.append(0)\n",
    "    y_encoded.append(each_row)\n",
    "\n",
    "# convert to dataframe\n",
    "y_encoded = pd.DataFrame(y_encoded, columns = categories)\n",
    "\n",
    "print(y_encoded)"
   ]
  },
  {
   "cell_type": "code",
   "execution_count": 80,
   "metadata": {},
   "outputs": [
    {
     "name": "stdout",
     "output_type": "stream",
     "text": [
      "[ 0  0  1  1  2  2  3  3  4  4  5  5  6  6  7  7  8  8  9  9 10 10 11 11\n",
      " 12 12 13 13 14 14 15 15 16 16 17 17 18 18 19 19 20 20 21 21 22 22 23 23\n",
      " 24 24  0  4  3  4 10 15 10  7  3  7  3 10  3  7 10  3  3  2  3 10  3  3\n",
      " 10 10 10 10  6  0  3 10  5  7 12  4  0  4  0  7  7  0  4 10  4  0  0  4\n",
      "  4 10  4  0  0  5  0  7]\n",
      "[12  2  3 12 11  4  3  9  2  2 14  2  3  2  2  3  2  2  2  2  2  2  2  2\n",
      "  2]\n",
      "[ 0  1  2  3  4  5  6  7  8  9 10 11 12 13 14 15 16 17 18 19 20 21 22 23\n",
      " 24]\n",
      "25\n"
     ]
    }
   ],
   "source": [
    "rows = np.where(np.sum(y_encoded, axis = 1) > 1)[0]\n",
    "# print(rows)\n",
    "\n",
    "theme_counts = y_encoded.to_numpy().argmax(axis = 1)\n",
    "print(theme_counts)\n",
    "unique_classes, counts = np.unique(theme_counts, \n",
    "                                   return_counts = True)\n",
    "print(counts)\n",
    "print(unique_classes)\n",
    "print(len(unique_classes))\n"
   ]
  },
  {
   "cell_type": "markdown",
   "metadata": {},
   "source": [
    "## TFIDF (ngram range test accuracy to tune the preprocessing), countvectorizer (ngram range test accuracy to tune the preprocessing), word2vec, bert (not necessary)"
   ]
  },
  {
   "cell_type": "markdown",
   "metadata": {},
   "source": [
    "### TDIDF"
   ]
  },
  {
   "cell_type": "code",
   "execution_count": 83,
   "metadata": {},
   "outputs": [],
   "source": [
    "# word pattern\n",
    "pattern = r\"[a-zA-Z]+\"\n",
    "\n",
    "vectorizer = TfidfVectorizer(\n",
    "    token_pattern = pattern, \n",
    "    stop_words = 'english', \n",
    "    ngram_range = (1, 2), # need to do the hyperparameter tuning for this later\n",
    "    max_features = 100000 # can adjust to larger num too\n",
    ")\n",
    "\n",
    "vectorizer.fit(train_x)\n",
    "\n",
    "# tokenization - create matrix\n",
    "tokenized_features = vectorizer.transform(data[\"summary\"])\n",
    "\n",
    "# create a dataframe\n",
    "features = pd.DataFrame(\n",
    "    data = tokenized_features.toarray(), \n",
    "    columns = vectorizer.get_feature_names_out()\n",
    ")\n",
    "\n",
    "# print(len(vectorizer.get_feature_names_out()))\n",
    "\n",
    "train_data[\"char_count\"] = train_data[\"summary\"].str.count(r\"\\S\")\n",
    "train_data[\"word_count\"] = train_data[\"summary\"].str.count(pattern)\n",
    "train_data[\"avg_word_length\"] = train_data[\"char_count\"] / train_data[\"word_count\"]\n",
    "\n",
    "train_x = pd.concat([features, data.loc[:, \"char_count\": ]], axis = 1)\n",
    "# data_y = data[\"theme\"]\n",
    "\n",
    "test_data[\"char_count\"] = test_data[\"summary\"].str.count(r\"\\S\")\n",
    "test_data[\"word_count\"] = test_data[\"summary\"].str.count(pattern)\n",
    "test_data[\"avg_word_length\"] = test_data[\"char_count\"] / test_data[\"word_count\"]\n",
    "\n",
    "test_x = pd.concat([features, data.loc[:, \"char_count\": ]], axis = 1)"
   ]
  },
  {
   "cell_type": "markdown",
   "metadata": {},
   "source": [
    "### Word2Vec - word embeddings"
   ]
  },
  {
   "cell_type": "code",
   "execution_count": null,
   "metadata": {},
   "outputs": [
    {
     "name": "stdout",
     "output_type": "stream",
     "text": [
      "accuracy:  0.09880636604774536\n"
     ]
    }
   ],
   "source": [
    "# tokenize all the sentences\n",
    "tokenized_sentences = [word_tokenize(each_line[0].lower()) for each_line in data]\n",
    "\n",
    "# train word2vec model\n",
    "word2vec_model = Word2Vec(\n",
    "    sentences = tokenized_sentences, \n",
    "    vector_size = 1000, \n",
    "    window = 5, \n",
    "    min_count = 1, \n",
    "    workers = 4\n",
    ")\n",
    "\n",
    "# generate document vectors\n",
    "def vectorize_doc(each_line):\n",
    "    # remove out of vocab words\n",
    "    words = [word for word in each_line if word in word2vec_model.wv]\n",
    "    return np.mean(word2vec_model.wv[words], axis = 0) if words else np.zeros(word2vec_model.vector_size)\n",
    "\n",
    "# create feature vectors \n",
    "data_x = np.array([vectorize_doc(word_tokenize(each_line.lower())) for each_line in data[\"cleaned_summary\"]])\n",
    "data_y = np.array([each_line.lower() for each_line in data[\"theme\"]])"
   ]
  },
  {
   "cell_type": "markdown",
   "metadata": {},
   "source": [
    "## logistic regression (softmax regression), support vector machine, bert, decision trees, random forest classifier, gradient boosting algorithm, KNN, neural networks (not necessary for small datasets), naive bayes classifier"
   ]
  },
  {
   "cell_type": "code",
   "execution_count": 29,
   "metadata": {},
   "outputs": [],
   "source": [
    "train_x, test_x, train_y, test_y = train_test_split(\n",
    "    data_x, \n",
    "    y_encoded, \n",
    "    test_size = 0.6, \n",
    "    stratify = None, \n",
    "    random_state = 59\n",
    ")"
   ]
  },
  {
   "cell_type": "code",
   "execution_count": 56,
   "metadata": {},
   "outputs": [
    {
     "name": "stderr",
     "output_type": "stream",
     "text": [
      "c:\\Users\\axlee\\AppData\\Local\\Programs\\Python\\Python312\\Lib\\site-packages\\sklearn\\model_selection\\_split.py:776: UserWarning: The least populated class in y has only 1 members, which is less than n_splits=2.\n",
      "  warnings.warn(\n"
     ]
    },
    {
     "name": "stdout",
     "output_type": "stream",
     "text": [
      "754\n",
      "754\n"
     ]
    }
   ],
   "source": [
    "from sklearn.model_selection import StratifiedKFold\n",
    "\n",
    "s = StratifiedKFold(n_splits = 2, \n",
    "                    shuffle = True, \n",
    "                    random_state = 59)\n",
    "\n",
    "for train_i, test_i in s.split(data_x, y_encoded.to_numpy().argmax(axis = 1)):\n",
    "    train_x, test_x = data_x.iloc[train_i], data_x.iloc[test_i]\n",
    "    train_y, test_y = y_encoded.iloc[train_i], y_encoded.iloc[test_i]\n",
    "\n",
    "\n",
    "print(len(train_x))\n",
    "print(len(train_y))"
   ]
  },
  {
   "cell_type": "markdown",
   "metadata": {},
   "source": [
    "### logistic regression (softmax regression)"
   ]
  },
  {
   "cell_type": "code",
   "execution_count": 84,
   "metadata": {},
   "outputs": [
    {
     "ename": "ValueError",
     "evalue": "y should be a 1d array, got an array of shape (104, 25) instead.",
     "output_type": "error",
     "traceback": [
      "\u001b[1;31m---------------------------------------------------------------------------\u001b[0m",
      "\u001b[1;31mValueError\u001b[0m                                Traceback (most recent call last)",
      "Cell \u001b[1;32mIn[84], line 3\u001b[0m\n\u001b[0;32m      1\u001b[0m \u001b[38;5;66;03m# logistic regression\u001b[39;00m\n\u001b[0;32m      2\u001b[0m model \u001b[38;5;241m=\u001b[39m LogisticRegression()\n\u001b[1;32m----> 3\u001b[0m \u001b[43mmodel\u001b[49m\u001b[38;5;241;43m.\u001b[39;49m\u001b[43mfit\u001b[49m\u001b[43m(\u001b[49m\u001b[43mtrain_x\u001b[49m\u001b[43m,\u001b[49m\u001b[43m \u001b[49m\u001b[43my_encoded\u001b[49m\u001b[43m)\u001b[49m\n\u001b[0;32m      5\u001b[0m \u001b[38;5;66;03m# evaluating ti wahe model\u001b[39;00m\n\u001b[0;32m      6\u001b[0m accuracy \u001b[38;5;241m=\u001b[39m model\u001b[38;5;241m.\u001b[39mscore(test_x, test_y)\n",
      "File \u001b[1;32mc:\\Users\\axlee\\AppData\\Local\\Programs\\Python\\Python312\\Lib\\site-packages\\sklearn\\base.py:1473\u001b[0m, in \u001b[0;36m_fit_context.<locals>.decorator.<locals>.wrapper\u001b[1;34m(estimator, *args, **kwargs)\u001b[0m\n\u001b[0;32m   1466\u001b[0m     estimator\u001b[38;5;241m.\u001b[39m_validate_params()\n\u001b[0;32m   1468\u001b[0m \u001b[38;5;28;01mwith\u001b[39;00m config_context(\n\u001b[0;32m   1469\u001b[0m     skip_parameter_validation\u001b[38;5;241m=\u001b[39m(\n\u001b[0;32m   1470\u001b[0m         prefer_skip_nested_validation \u001b[38;5;129;01mor\u001b[39;00m global_skip_validation\n\u001b[0;32m   1471\u001b[0m     )\n\u001b[0;32m   1472\u001b[0m ):\n\u001b[1;32m-> 1473\u001b[0m     \u001b[38;5;28;01mreturn\u001b[39;00m \u001b[43mfit_method\u001b[49m\u001b[43m(\u001b[49m\u001b[43mestimator\u001b[49m\u001b[43m,\u001b[49m\u001b[43m \u001b[49m\u001b[38;5;241;43m*\u001b[39;49m\u001b[43margs\u001b[49m\u001b[43m,\u001b[49m\u001b[43m \u001b[49m\u001b[38;5;241;43m*\u001b[39;49m\u001b[38;5;241;43m*\u001b[39;49m\u001b[43mkwargs\u001b[49m\u001b[43m)\u001b[49m\n",
      "File \u001b[1;32mc:\\Users\\axlee\\AppData\\Local\\Programs\\Python\\Python312\\Lib\\site-packages\\sklearn\\linear_model\\_logistic.py:1223\u001b[0m, in \u001b[0;36mLogisticRegression.fit\u001b[1;34m(self, X, y, sample_weight)\u001b[0m\n\u001b[0;32m   1220\u001b[0m \u001b[38;5;28;01melse\u001b[39;00m:\n\u001b[0;32m   1221\u001b[0m     _dtype \u001b[38;5;241m=\u001b[39m [np\u001b[38;5;241m.\u001b[39mfloat64, np\u001b[38;5;241m.\u001b[39mfloat32]\n\u001b[1;32m-> 1223\u001b[0m X, y \u001b[38;5;241m=\u001b[39m \u001b[38;5;28;43mself\u001b[39;49m\u001b[38;5;241;43m.\u001b[39;49m\u001b[43m_validate_data\u001b[49m\u001b[43m(\u001b[49m\n\u001b[0;32m   1224\u001b[0m \u001b[43m    \u001b[49m\u001b[43mX\u001b[49m\u001b[43m,\u001b[49m\n\u001b[0;32m   1225\u001b[0m \u001b[43m    \u001b[49m\u001b[43my\u001b[49m\u001b[43m,\u001b[49m\n\u001b[0;32m   1226\u001b[0m \u001b[43m    \u001b[49m\u001b[43maccept_sparse\u001b[49m\u001b[38;5;241;43m=\u001b[39;49m\u001b[38;5;124;43m\"\u001b[39;49m\u001b[38;5;124;43mcsr\u001b[39;49m\u001b[38;5;124;43m\"\u001b[39;49m\u001b[43m,\u001b[49m\n\u001b[0;32m   1227\u001b[0m \u001b[43m    \u001b[49m\u001b[43mdtype\u001b[49m\u001b[38;5;241;43m=\u001b[39;49m\u001b[43m_dtype\u001b[49m\u001b[43m,\u001b[49m\n\u001b[0;32m   1228\u001b[0m \u001b[43m    \u001b[49m\u001b[43morder\u001b[49m\u001b[38;5;241;43m=\u001b[39;49m\u001b[38;5;124;43m\"\u001b[39;49m\u001b[38;5;124;43mC\u001b[39;49m\u001b[38;5;124;43m\"\u001b[39;49m\u001b[43m,\u001b[49m\n\u001b[0;32m   1229\u001b[0m \u001b[43m    \u001b[49m\u001b[43maccept_large_sparse\u001b[49m\u001b[38;5;241;43m=\u001b[39;49m\u001b[43msolver\u001b[49m\u001b[43m \u001b[49m\u001b[38;5;129;43;01mnot\u001b[39;49;00m\u001b[43m \u001b[49m\u001b[38;5;129;43;01min\u001b[39;49;00m\u001b[43m \u001b[49m\u001b[43m[\u001b[49m\u001b[38;5;124;43m\"\u001b[39;49m\u001b[38;5;124;43mliblinear\u001b[39;49m\u001b[38;5;124;43m\"\u001b[39;49m\u001b[43m,\u001b[49m\u001b[43m \u001b[49m\u001b[38;5;124;43m\"\u001b[39;49m\u001b[38;5;124;43msag\u001b[39;49m\u001b[38;5;124;43m\"\u001b[39;49m\u001b[43m,\u001b[49m\u001b[43m \u001b[49m\u001b[38;5;124;43m\"\u001b[39;49m\u001b[38;5;124;43msaga\u001b[39;49m\u001b[38;5;124;43m\"\u001b[39;49m\u001b[43m]\u001b[49m\u001b[43m,\u001b[49m\n\u001b[0;32m   1230\u001b[0m \u001b[43m\u001b[49m\u001b[43m)\u001b[49m\n\u001b[0;32m   1231\u001b[0m check_classification_targets(y)\n\u001b[0;32m   1232\u001b[0m \u001b[38;5;28mself\u001b[39m\u001b[38;5;241m.\u001b[39mclasses_ \u001b[38;5;241m=\u001b[39m np\u001b[38;5;241m.\u001b[39munique(y)\n",
      "File \u001b[1;32mc:\\Users\\axlee\\AppData\\Local\\Programs\\Python\\Python312\\Lib\\site-packages\\sklearn\\base.py:650\u001b[0m, in \u001b[0;36mBaseEstimator._validate_data\u001b[1;34m(self, X, y, reset, validate_separately, cast_to_ndarray, **check_params)\u001b[0m\n\u001b[0;32m    648\u001b[0m         y \u001b[38;5;241m=\u001b[39m check_array(y, input_name\u001b[38;5;241m=\u001b[39m\u001b[38;5;124m\"\u001b[39m\u001b[38;5;124my\u001b[39m\u001b[38;5;124m\"\u001b[39m, \u001b[38;5;241m*\u001b[39m\u001b[38;5;241m*\u001b[39mcheck_y_params)\n\u001b[0;32m    649\u001b[0m     \u001b[38;5;28;01melse\u001b[39;00m:\n\u001b[1;32m--> 650\u001b[0m         X, y \u001b[38;5;241m=\u001b[39m \u001b[43mcheck_X_y\u001b[49m\u001b[43m(\u001b[49m\u001b[43mX\u001b[49m\u001b[43m,\u001b[49m\u001b[43m \u001b[49m\u001b[43my\u001b[49m\u001b[43m,\u001b[49m\u001b[43m \u001b[49m\u001b[38;5;241;43m*\u001b[39;49m\u001b[38;5;241;43m*\u001b[39;49m\u001b[43mcheck_params\u001b[49m\u001b[43m)\u001b[49m\n\u001b[0;32m    651\u001b[0m     out \u001b[38;5;241m=\u001b[39m X, y\n\u001b[0;32m    653\u001b[0m \u001b[38;5;28;01mif\u001b[39;00m \u001b[38;5;129;01mnot\u001b[39;00m no_val_X \u001b[38;5;129;01mand\u001b[39;00m check_params\u001b[38;5;241m.\u001b[39mget(\u001b[38;5;124m\"\u001b[39m\u001b[38;5;124mensure_2d\u001b[39m\u001b[38;5;124m\"\u001b[39m, \u001b[38;5;28;01mTrue\u001b[39;00m):\n",
      "File \u001b[1;32mc:\\Users\\axlee\\AppData\\Local\\Programs\\Python\\Python312\\Lib\\site-packages\\sklearn\\utils\\validation.py:1318\u001b[0m, in \u001b[0;36mcheck_X_y\u001b[1;34m(X, y, accept_sparse, accept_large_sparse, dtype, order, copy, force_writeable, force_all_finite, ensure_2d, allow_nd, multi_output, ensure_min_samples, ensure_min_features, y_numeric, estimator)\u001b[0m\n\u001b[0;32m   1297\u001b[0m     \u001b[38;5;28;01mraise\u001b[39;00m \u001b[38;5;167;01mValueError\u001b[39;00m(\n\u001b[0;32m   1298\u001b[0m         \u001b[38;5;124mf\u001b[39m\u001b[38;5;124m\"\u001b[39m\u001b[38;5;132;01m{\u001b[39;00mestimator_name\u001b[38;5;132;01m}\u001b[39;00m\u001b[38;5;124m requires y to be passed, but the target y is None\u001b[39m\u001b[38;5;124m\"\u001b[39m\n\u001b[0;32m   1299\u001b[0m     )\n\u001b[0;32m   1301\u001b[0m X \u001b[38;5;241m=\u001b[39m check_array(\n\u001b[0;32m   1302\u001b[0m     X,\n\u001b[0;32m   1303\u001b[0m     accept_sparse\u001b[38;5;241m=\u001b[39maccept_sparse,\n\u001b[1;32m   (...)\u001b[0m\n\u001b[0;32m   1315\u001b[0m     input_name\u001b[38;5;241m=\u001b[39m\u001b[38;5;124m\"\u001b[39m\u001b[38;5;124mX\u001b[39m\u001b[38;5;124m\"\u001b[39m,\n\u001b[0;32m   1316\u001b[0m )\n\u001b[1;32m-> 1318\u001b[0m y \u001b[38;5;241m=\u001b[39m \u001b[43m_check_y\u001b[49m\u001b[43m(\u001b[49m\u001b[43my\u001b[49m\u001b[43m,\u001b[49m\u001b[43m \u001b[49m\u001b[43mmulti_output\u001b[49m\u001b[38;5;241;43m=\u001b[39;49m\u001b[43mmulti_output\u001b[49m\u001b[43m,\u001b[49m\u001b[43m \u001b[49m\u001b[43my_numeric\u001b[49m\u001b[38;5;241;43m=\u001b[39;49m\u001b[43my_numeric\u001b[49m\u001b[43m,\u001b[49m\u001b[43m \u001b[49m\u001b[43mestimator\u001b[49m\u001b[38;5;241;43m=\u001b[39;49m\u001b[43mestimator\u001b[49m\u001b[43m)\u001b[49m\n\u001b[0;32m   1320\u001b[0m check_consistent_length(X, y)\n\u001b[0;32m   1322\u001b[0m \u001b[38;5;28;01mreturn\u001b[39;00m X, y\n",
      "File \u001b[1;32mc:\\Users\\axlee\\AppData\\Local\\Programs\\Python\\Python312\\Lib\\site-packages\\sklearn\\utils\\validation.py:1339\u001b[0m, in \u001b[0;36m_check_y\u001b[1;34m(y, multi_output, y_numeric, estimator)\u001b[0m\n\u001b[0;32m   1337\u001b[0m \u001b[38;5;28;01melse\u001b[39;00m:\n\u001b[0;32m   1338\u001b[0m     estimator_name \u001b[38;5;241m=\u001b[39m _check_estimator_name(estimator)\n\u001b[1;32m-> 1339\u001b[0m     y \u001b[38;5;241m=\u001b[39m \u001b[43mcolumn_or_1d\u001b[49m\u001b[43m(\u001b[49m\u001b[43my\u001b[49m\u001b[43m,\u001b[49m\u001b[43m \u001b[49m\u001b[43mwarn\u001b[49m\u001b[38;5;241;43m=\u001b[39;49m\u001b[38;5;28;43;01mTrue\u001b[39;49;00m\u001b[43m)\u001b[49m\n\u001b[0;32m   1340\u001b[0m     _assert_all_finite(y, input_name\u001b[38;5;241m=\u001b[39m\u001b[38;5;124m\"\u001b[39m\u001b[38;5;124my\u001b[39m\u001b[38;5;124m\"\u001b[39m, estimator_name\u001b[38;5;241m=\u001b[39mestimator_name)\n\u001b[0;32m   1341\u001b[0m     _ensure_no_complex_data(y)\n",
      "File \u001b[1;32mc:\\Users\\axlee\\AppData\\Local\\Programs\\Python\\Python312\\Lib\\site-packages\\sklearn\\utils\\validation.py:1406\u001b[0m, in \u001b[0;36mcolumn_or_1d\u001b[1;34m(y, dtype, warn)\u001b[0m\n\u001b[0;32m   1395\u001b[0m         warnings\u001b[38;5;241m.\u001b[39mwarn(\n\u001b[0;32m   1396\u001b[0m             (\n\u001b[0;32m   1397\u001b[0m                 \u001b[38;5;124m\"\u001b[39m\u001b[38;5;124mA column-vector y was passed when a 1d array was\u001b[39m\u001b[38;5;124m\"\u001b[39m\n\u001b[1;32m   (...)\u001b[0m\n\u001b[0;32m   1402\u001b[0m             stacklevel\u001b[38;5;241m=\u001b[39m\u001b[38;5;241m2\u001b[39m,\n\u001b[0;32m   1403\u001b[0m         )\n\u001b[0;32m   1404\u001b[0m     \u001b[38;5;28;01mreturn\u001b[39;00m _asarray_with_order(xp\u001b[38;5;241m.\u001b[39mreshape(y, (\u001b[38;5;241m-\u001b[39m\u001b[38;5;241m1\u001b[39m,)), order\u001b[38;5;241m=\u001b[39m\u001b[38;5;124m\"\u001b[39m\u001b[38;5;124mC\u001b[39m\u001b[38;5;124m\"\u001b[39m, xp\u001b[38;5;241m=\u001b[39mxp)\n\u001b[1;32m-> 1406\u001b[0m \u001b[38;5;28;01mraise\u001b[39;00m \u001b[38;5;167;01mValueError\u001b[39;00m(\n\u001b[0;32m   1407\u001b[0m     \u001b[38;5;124m\"\u001b[39m\u001b[38;5;124my should be a 1d array, got an array of shape \u001b[39m\u001b[38;5;132;01m{}\u001b[39;00m\u001b[38;5;124m instead.\u001b[39m\u001b[38;5;124m\"\u001b[39m\u001b[38;5;241m.\u001b[39mformat(shape)\n\u001b[0;32m   1408\u001b[0m )\n",
      "\u001b[1;31mValueError\u001b[0m: y should be a 1d array, got an array of shape (104, 25) instead."
     ]
    }
   ],
   "source": [
    "# logistic regression\n",
    "model = LogisticRegression()\n",
    "model.fit(train_x, y_encoded)\n",
    "\n",
    "# evaluating the model\n",
    "accuracy = model.score(test_x, test_y)\n",
    "print(\"accuracy: \" , accuracy)"
   ]
  },
  {
   "cell_type": "markdown",
   "metadata": {},
   "source": [
    "### sigmoid activation function"
   ]
  },
  {
   "cell_type": "code",
   "execution_count": 20,
   "metadata": {},
   "outputs": [],
   "source": [
    "import tensorflow as tf\n",
    "from tensorflow.keras.models import Sequential\n",
    "from tensorflow.keras.layers import Dense, Embedding, GlobalAveragePooling1D\n",
    "from tensorflow.keras.optimizers import Adam"
   ]
  },
  {
   "cell_type": "markdown",
   "metadata": {},
   "source": [
    "#### train model"
   ]
  },
  {
   "cell_type": "code",
   "execution_count": 22,
   "metadata": {},
   "outputs": [
    {
     "name": "stderr",
     "output_type": "stream",
     "text": [
      "c:\\Users\\axlee\\AppData\\Local\\Programs\\Python\\Python312\\Lib\\site-packages\\keras\\src\\layers\\core\\embedding.py:90: UserWarning: Argument `input_length` is deprecated. Just remove it.\n",
      "  warnings.warn(\n"
     ]
    },
    {
     "data": {
      "text/html": [
       "<pre style=\"white-space:pre;overflow-x:auto;line-height:normal;font-family:Menlo,'DejaVu Sans Mono',consolas,'Courier New',monospace\"><span style=\"font-weight: bold\">Model: \"sequential\"</span>\n",
       "</pre>\n"
      ],
      "text/plain": [
       "\u001b[1mModel: \"sequential\"\u001b[0m\n"
      ]
     },
     "metadata": {},
     "output_type": "display_data"
    },
    {
     "data": {
      "text/html": [
       "<pre style=\"white-space:pre;overflow-x:auto;line-height:normal;font-family:Menlo,'DejaVu Sans Mono',consolas,'Courier New',monospace\">┏━━━━━━━━━━━━━━━━━━━━━━━━━━━━━━━━━┳━━━━━━━━━━━━━━━━━━━━━━━━┳━━━━━━━━━━━━━━━┓\n",
       "┃<span style=\"font-weight: bold\"> Layer (type)                    </span>┃<span style=\"font-weight: bold\"> Output Shape           </span>┃<span style=\"font-weight: bold\">       Param # </span>┃\n",
       "┡━━━━━━━━━━━━━━━━━━━━━━━━━━━━━━━━━╇━━━━━━━━━━━━━━━━━━━━━━━━╇━━━━━━━━━━━━━━━┩\n",
       "│ embedding (<span style=\"color: #0087ff; text-decoration-color: #0087ff\">Embedding</span>)           │ ?                      │   <span style=\"color: #00af00; text-decoration-color: #00af00\">0</span> (unbuilt) │\n",
       "├─────────────────────────────────┼────────────────────────┼───────────────┤\n",
       "│ global_average_pooling1d        │ ?                      │             <span style=\"color: #00af00; text-decoration-color: #00af00\">0</span> │\n",
       "│ (<span style=\"color: #0087ff; text-decoration-color: #0087ff\">GlobalAveragePooling1D</span>)        │                        │               │\n",
       "├─────────────────────────────────┼────────────────────────┼───────────────┤\n",
       "│ dense (<span style=\"color: #0087ff; text-decoration-color: #0087ff\">Dense</span>)                   │ ?                      │   <span style=\"color: #00af00; text-decoration-color: #00af00\">0</span> (unbuilt) │\n",
       "├─────────────────────────────────┼────────────────────────┼───────────────┤\n",
       "│ dense_1 (<span style=\"color: #0087ff; text-decoration-color: #0087ff\">Dense</span>)                 │ ?                      │   <span style=\"color: #00af00; text-decoration-color: #00af00\">0</span> (unbuilt) │\n",
       "└─────────────────────────────────┴────────────────────────┴───────────────┘\n",
       "</pre>\n"
      ],
      "text/plain": [
       "┏━━━━━━━━━━━━━━━━━━━━━━━━━━━━━━━━━┳━━━━━━━━━━━━━━━━━━━━━━━━┳━━━━━━━━━━━━━━━┓\n",
       "┃\u001b[1m \u001b[0m\u001b[1mLayer (type)                   \u001b[0m\u001b[1m \u001b[0m┃\u001b[1m \u001b[0m\u001b[1mOutput Shape          \u001b[0m\u001b[1m \u001b[0m┃\u001b[1m \u001b[0m\u001b[1m      Param #\u001b[0m\u001b[1m \u001b[0m┃\n",
       "┡━━━━━━━━━━━━━━━━━━━━━━━━━━━━━━━━━╇━━━━━━━━━━━━━━━━━━━━━━━━╇━━━━━━━━━━━━━━━┩\n",
       "│ embedding (\u001b[38;5;33mEmbedding\u001b[0m)           │ ?                      │   \u001b[38;5;34m0\u001b[0m (unbuilt) │\n",
       "├─────────────────────────────────┼────────────────────────┼───────────────┤\n",
       "│ global_average_pooling1d        │ ?                      │             \u001b[38;5;34m0\u001b[0m │\n",
       "│ (\u001b[38;5;33mGlobalAveragePooling1D\u001b[0m)        │                        │               │\n",
       "├─────────────────────────────────┼────────────────────────┼───────────────┤\n",
       "│ dense (\u001b[38;5;33mDense\u001b[0m)                   │ ?                      │   \u001b[38;5;34m0\u001b[0m (unbuilt) │\n",
       "├─────────────────────────────────┼────────────────────────┼───────────────┤\n",
       "│ dense_1 (\u001b[38;5;33mDense\u001b[0m)                 │ ?                      │   \u001b[38;5;34m0\u001b[0m (unbuilt) │\n",
       "└─────────────────────────────────┴────────────────────────┴───────────────┘\n"
      ]
     },
     "metadata": {},
     "output_type": "display_data"
    },
    {
     "data": {
      "text/html": [
       "<pre style=\"white-space:pre;overflow-x:auto;line-height:normal;font-family:Menlo,'DejaVu Sans Mono',consolas,'Courier New',monospace\"><span style=\"font-weight: bold\"> Total params: </span><span style=\"color: #00af00; text-decoration-color: #00af00\">0</span> (0.00 B)\n",
       "</pre>\n"
      ],
      "text/plain": [
       "\u001b[1m Total params: \u001b[0m\u001b[38;5;34m0\u001b[0m (0.00 B)\n"
      ]
     },
     "metadata": {},
     "output_type": "display_data"
    },
    {
     "data": {
      "text/html": [
       "<pre style=\"white-space:pre;overflow-x:auto;line-height:normal;font-family:Menlo,'DejaVu Sans Mono',consolas,'Courier New',monospace\"><span style=\"font-weight: bold\"> Trainable params: </span><span style=\"color: #00af00; text-decoration-color: #00af00\">0</span> (0.00 B)\n",
       "</pre>\n"
      ],
      "text/plain": [
       "\u001b[1m Trainable params: \u001b[0m\u001b[38;5;34m0\u001b[0m (0.00 B)\n"
      ]
     },
     "metadata": {},
     "output_type": "display_data"
    },
    {
     "data": {
      "text/html": [
       "<pre style=\"white-space:pre;overflow-x:auto;line-height:normal;font-family:Menlo,'DejaVu Sans Mono',consolas,'Courier New',monospace\"><span style=\"font-weight: bold\"> Non-trainable params: </span><span style=\"color: #00af00; text-decoration-color: #00af00\">0</span> (0.00 B)\n",
       "</pre>\n"
      ],
      "text/plain": [
       "\u001b[1m Non-trainable params: \u001b[0m\u001b[38;5;34m0\u001b[0m (0.00 B)\n"
      ]
     },
     "metadata": {},
     "output_type": "display_data"
    }
   ],
   "source": [
    "vocab_size = 100000\n",
    "num_of_categories = len(categories)\n",
    "\n",
    "model = Sequential([\n",
    "    Embedding(input_dim = vocab_size, \n",
    "              output_dim = num_of_categories, \n",
    "              input_length = 1000\n",
    "              ),\n",
    "    GlobalAveragePooling1D(), \n",
    "    Dense(64, activation = \"relu\"), # hidden layer\n",
    "    Dense(num_of_categories, activation = \"sigmoid\")\n",
    "])\n",
    "\n",
    "model.compile(optimizer = Adam(), \n",
    "              loss = \"binary_crossentropy\", \n",
    "              metrics = [\"accuracy\"])\n",
    "\n",
    "model.summary()"
   ]
  },
  {
   "cell_type": "markdown",
   "metadata": {},
   "source": [
    "#### fit the model"
   ]
  },
  {
   "cell_type": "code",
   "execution_count": 30,
   "metadata": {},
   "outputs": [
    {
     "name": "stdout",
     "output_type": "stream",
     "text": [
      "Epoch 1/10\n",
      "\u001b[1m16/16\u001b[0m \u001b[32m━━━━━━━━━━━━━━━━━━━━\u001b[0m\u001b[37m\u001b[0m \u001b[1m3s\u001b[0m 124ms/step - accuracy: 0.0025 - loss: 0.4462 - val_accuracy: 0.0000e+00 - val_loss: 0.0414\n",
      "Epoch 2/10\n",
      "\u001b[1m16/16\u001b[0m \u001b[32m━━━━━━━━━━━━━━━━━━━━\u001b[0m\u001b[37m\u001b[0m \u001b[1m1s\u001b[0m 72ms/step - accuracy: 0.0000e+00 - loss: 0.0284 - val_accuracy: 0.0165 - val_loss: 0.0102\n",
      "Epoch 3/10\n",
      "\u001b[1m16/16\u001b[0m \u001b[32m━━━━━━━━━━━━━━━━━━━━\u001b[0m\u001b[37m\u001b[0m \u001b[1m1s\u001b[0m 66ms/step - accuracy: 0.0096 - loss: 0.0177 - val_accuracy: 0.0165 - val_loss: 0.0098\n",
      "Epoch 4/10\n",
      "\u001b[1m16/16\u001b[0m \u001b[32m━━━━━━━━━━━━━━━━━━━━\u001b[0m\u001b[37m\u001b[0m \u001b[1m1s\u001b[0m 68ms/step - accuracy: 0.0085 - loss: 0.0115 - val_accuracy: 0.0083 - val_loss: 0.0099\n",
      "Epoch 5/10\n",
      "\u001b[1m16/16\u001b[0m \u001b[32m━━━━━━━━━━━━━━━━━━━━\u001b[0m\u001b[37m\u001b[0m \u001b[1m1s\u001b[0m 66ms/step - accuracy: 0.0186 - loss: 0.0120 - val_accuracy: 0.0165 - val_loss: 0.0099\n",
      "Epoch 6/10\n",
      "\u001b[1m16/16\u001b[0m \u001b[32m━━━━━━━━━━━━━━━━━━━━\u001b[0m\u001b[37m\u001b[0m \u001b[1m1s\u001b[0m 68ms/step - accuracy: 0.0054 - loss: 0.0086 - val_accuracy: 0.0165 - val_loss: 0.0096\n",
      "Epoch 7/10\n",
      "\u001b[1m16/16\u001b[0m \u001b[32m━━━━━━━━━━━━━━━━━━━━\u001b[0m\u001b[37m\u001b[0m \u001b[1m1s\u001b[0m 75ms/step - accuracy: 0.0090 - loss: 0.0137 - val_accuracy: 0.0083 - val_loss: 0.0100\n",
      "Epoch 8/10\n",
      "\u001b[1m16/16\u001b[0m \u001b[32m━━━━━━━━━━━━━━━━━━━━\u001b[0m\u001b[37m\u001b[0m \u001b[1m1s\u001b[0m 82ms/step - accuracy: 0.0131 - loss: 0.0098 - val_accuracy: 0.0165 - val_loss: 0.0095\n",
      "Epoch 9/10\n",
      "\u001b[1m16/16\u001b[0m \u001b[32m━━━━━━━━━━━━━━━━━━━━\u001b[0m\u001b[37m\u001b[0m \u001b[1m1s\u001b[0m 73ms/step - accuracy: 0.0165 - loss: 0.0133 - val_accuracy: 0.0165 - val_loss: 0.0097\n",
      "Epoch 10/10\n",
      "\u001b[1m16/16\u001b[0m \u001b[32m━━━━━━━━━━━━━━━━━━━━\u001b[0m\u001b[37m\u001b[0m \u001b[1m1s\u001b[0m 73ms/step - accuracy: 0.0143 - loss: 0.0133 - val_accuracy: 0.0165 - val_loss: 0.0097\n"
     ]
    },
    {
     "data": {
      "text/plain": [
       "<keras.src.callbacks.history.History at 0x1204af94e30>"
      ]
     },
     "execution_count": 30,
     "metadata": {},
     "output_type": "execute_result"
    }
   ],
   "source": [
    "model.fit(train_x, \n",
    "          train_y, \n",
    "          epochs = 10, \n",
    "          batch_size = 32, \n",
    "          validation_split = 0.2)"
   ]
  },
  {
   "cell_type": "markdown",
   "metadata": {},
   "source": [
    "#### predict using the model (test_x)"
   ]
  },
  {
   "cell_type": "code",
   "execution_count": 38,
   "metadata": {},
   "outputs": [
    {
     "name": "stdout",
     "output_type": "stream",
     "text": [
      "\u001b[1m29/29\u001b[0m \u001b[32m━━━━━━━━━━━━━━━━━━━━\u001b[0m\u001b[37m\u001b[0m \u001b[1m1s\u001b[0m 17ms/step\n",
      "[['international relations and trade'], ['international relations and trade'], ['international relations and trade'], ['international relations and trade'], ['international relations and trade'], ['international relations and trade'], ['international relations and trade'], ['international relations and trade'], ['international relations and trade'], ['international relations and trade'], ['international relations and trade'], ['international relations and trade'], ['international relations and trade'], ['international relations and trade'], ['international relations and trade'], ['international relations and trade'], ['international relations and trade'], ['international relations and trade'], ['international relations and trade'], ['international relations and trade'], ['international relations and trade'], ['international relations and trade'], ['international relations and trade'], ['international relations and trade'], ['international relations and trade'], ['international relations and trade'], ['international relations and trade'], ['international relations and trade'], ['international relations and trade'], ['international relations and trade'], ['international relations and trade'], ['international relations and trade'], ['international relations and trade'], ['international relations and trade'], ['international relations and trade'], ['international relations and trade'], ['international relations and trade'], ['international relations and trade'], ['international relations and trade'], ['international relations and trade'], ['international relations and trade'], ['international relations and trade'], ['international relations and trade'], ['international relations and trade'], ['international relations and trade'], ['international relations and trade'], ['international relations and trade'], ['international relations and trade'], ['international relations and trade'], ['international relations and trade'], ['international relations and trade'], ['international relations and trade'], ['international relations and trade'], ['international relations and trade'], ['international relations and trade'], ['international relations and trade'], ['international relations and trade'], ['international relations and trade'], ['international relations and trade'], ['international relations and trade'], ['international relations and trade'], ['international relations and trade'], ['international relations and trade'], ['international relations and trade'], ['international relations and trade'], ['international relations and trade'], ['international relations and trade'], ['international relations and trade'], ['international relations and trade'], ['international relations and trade'], ['international relations and trade'], ['international relations and trade'], ['international relations and trade'], ['international relations and trade'], ['international relations and trade'], ['international relations and trade'], ['international relations and trade'], ['international relations and trade'], ['international relations and trade'], ['international relations and trade'], ['international relations and trade'], ['international relations and trade'], ['international relations and trade'], ['international relations and trade'], ['international relations and trade'], ['international relations and trade'], ['international relations and trade'], ['international relations and trade'], ['international relations and trade'], ['international relations and trade'], ['international relations and trade'], ['international relations and trade'], ['international relations and trade'], ['international relations and trade'], ['international relations and trade'], ['international relations and trade'], ['international relations and trade'], ['international relations and trade'], ['international relations and trade'], ['international relations and trade'], ['international relations and trade'], ['international relations and trade'], ['international relations and trade'], ['international relations and trade'], ['international relations and trade'], ['international relations and trade'], ['international relations and trade'], ['international relations and trade'], ['international relations and trade'], ['international relations and trade'], ['international relations and trade'], ['international relations and trade'], ['international relations and trade'], ['international relations and trade'], ['international relations and trade'], ['international relations and trade'], ['international relations and trade'], ['international relations and trade'], ['international relations and trade'], ['international relations and trade'], ['international relations and trade'], ['international relations and trade'], ['international relations and trade'], ['international relations and trade'], ['international relations and trade'], ['international relations and trade'], ['international relations and trade'], ['international relations and trade'], ['international relations and trade'], ['international relations and trade'], ['international relations and trade'], ['international relations and trade'], ['international relations and trade'], ['international relations and trade'], ['international relations and trade'], ['international relations and trade'], ['international relations and trade'], ['international relations and trade'], ['international relations and trade'], ['international relations and trade'], ['international relations and trade'], ['international relations and trade'], ['international relations and trade'], ['international relations and trade'], ['international relations and trade'], ['international relations and trade'], ['international relations and trade'], ['international relations and trade'], ['international relations and trade'], ['international relations and trade'], ['international relations and trade'], ['international relations and trade'], ['international relations and trade'], ['international relations and trade'], ['international relations and trade'], ['international relations and trade'], ['international relations and trade'], ['international relations and trade'], ['international relations and trade'], ['international relations and trade'], ['international relations and trade'], ['international relations and trade'], ['international relations and trade'], ['international relations and trade'], ['international relations and trade'], ['international relations and trade'], ['international relations and trade'], ['international relations and trade'], ['international relations and trade'], ['international relations and trade'], ['international relations and trade'], ['international relations and trade'], ['international relations and trade'], ['international relations and trade'], ['international relations and trade'], ['international relations and trade'], ['international relations and trade'], ['international relations and trade'], ['international relations and trade'], ['international relations and trade'], ['international relations and trade'], ['international relations and trade'], ['international relations and trade'], ['international relations and trade'], ['international relations and trade'], ['international relations and trade'], ['international relations and trade'], ['international relations and trade'], ['international relations and trade'], ['international relations and trade'], ['international relations and trade'], ['international relations and trade'], ['international relations and trade'], ['international relations and trade'], ['international relations and trade'], ['international relations and trade'], ['international relations and trade'], ['international relations and trade'], ['international relations and trade'], ['international relations and trade'], ['international relations and trade'], ['international relations and trade'], ['international relations and trade'], ['international relations and trade'], ['international relations and trade'], ['international relations and trade'], ['international relations and trade'], ['international relations and trade'], ['international relations and trade'], ['international relations and trade'], ['international relations and trade'], ['international relations and trade'], ['international relations and trade'], ['international relations and trade'], ['international relations and trade'], ['international relations and trade'], ['international relations and trade'], ['international relations and trade'], ['international relations and trade'], ['international relations and trade'], ['international relations and trade'], ['international relations and trade'], ['international relations and trade'], ['international relations and trade'], ['international relations and trade'], ['international relations and trade'], ['international relations and trade'], ['international relations and trade'], ['international relations and trade'], ['international relations and trade'], ['international relations and trade'], ['international relations and trade'], ['international relations and trade'], ['international relations and trade'], ['international relations and trade'], ['international relations and trade'], ['international relations and trade'], ['international relations and trade'], ['international relations and trade'], ['international relations and trade'], ['international relations and trade'], ['international relations and trade'], ['international relations and trade'], ['international relations and trade'], ['international relations and trade'], ['international relations and trade'], ['international relations and trade'], ['international relations and trade'], ['international relations and trade'], ['international relations and trade'], ['international relations and trade'], ['international relations and trade'], ['international relations and trade'], ['international relations and trade'], ['international relations and trade'], ['international relations and trade'], ['international relations and trade'], ['international relations and trade'], ['international relations and trade'], ['international relations and trade'], ['international relations and trade'], ['international relations and trade'], ['international relations and trade'], ['international relations and trade'], ['international relations and trade'], ['international relations and trade'], ['international relations and trade'], ['international relations and trade'], ['international relations and trade'], ['international relations and trade'], ['international relations and trade'], ['international relations and trade'], ['international relations and trade'], ['international relations and trade'], ['international relations and trade'], ['international relations and trade'], ['international relations and trade'], ['international relations and trade'], ['international relations and trade'], ['international relations and trade'], ['international relations and trade'], ['international relations and trade'], ['international relations and trade'], ['international relations and trade'], ['international relations and trade'], ['international relations and trade'], ['international relations and trade'], ['international relations and trade'], ['international relations and trade'], ['international relations and trade'], ['international relations and trade'], ['international relations and trade'], ['international relations and trade'], ['international relations and trade'], ['international relations and trade'], ['international relations and trade'], ['international relations and trade'], ['international relations and trade'], ['international relations and trade'], ['international relations and trade'], ['international relations and trade'], ['international relations and trade'], ['international relations and trade'], ['international relations and trade'], ['international relations and trade'], ['international relations and trade'], ['international relations and trade'], ['international relations and trade'], ['international relations and trade'], ['international relations and trade'], ['international relations and trade'], ['international relations and trade'], ['international relations and trade'], ['international relations and trade'], ['international relations and trade'], ['international relations and trade'], ['international relations and trade'], ['international relations and trade'], ['international relations and trade'], ['international relations and trade'], ['international relations and trade'], ['international relations and trade'], ['international relations and trade'], ['international relations and trade'], ['international relations and trade'], ['international relations and trade'], ['international relations and trade'], ['international relations and trade'], ['international relations and trade'], ['international relations and trade'], ['international relations and trade'], ['international relations and trade'], ['international relations and trade'], ['international relations and trade'], ['international relations and trade'], ['international relations and trade'], ['international relations and trade'], ['international relations and trade'], ['international relations and trade'], ['international relations and trade'], ['international relations and trade'], ['international relations and trade'], ['international relations and trade'], ['international relations and trade'], ['international relations and trade'], ['international relations and trade'], ['international relations and trade'], ['international relations and trade'], ['international relations and trade'], ['international relations and trade'], ['international relations and trade'], ['international relations and trade'], ['international relations and trade'], ['international relations and trade'], ['international relations and trade'], ['international relations and trade'], ['international relations and trade'], ['international relations and trade'], ['international relations and trade'], ['international relations and trade'], ['international relations and trade'], ['international relations and trade'], ['international relations and trade'], ['international relations and trade'], ['international relations and trade'], ['international relations and trade'], ['international relations and trade'], ['international relations and trade'], ['international relations and trade'], ['international relations and trade'], ['international relations and trade'], ['international relations and trade'], ['international relations and trade'], ['international relations and trade'], ['international relations and trade'], ['international relations and trade'], ['international relations and trade'], ['international relations and trade'], ['international relations and trade'], ['international relations and trade'], ['international relations and trade'], ['international relations and trade'], ['international relations and trade'], ['international relations and trade'], ['international relations and trade'], ['international relations and trade'], ['international relations and trade'], ['international relations and trade'], ['international relations and trade'], ['international relations and trade'], ['international relations and trade'], ['international relations and trade'], ['international relations and trade'], ['international relations and trade'], ['international relations and trade'], ['international relations and trade'], ['international relations and trade'], ['international relations and trade'], ['international relations and trade'], ['international relations and trade'], ['international relations and trade'], ['international relations and trade'], ['international relations and trade'], ['international relations and trade'], ['international relations and trade'], ['international relations and trade'], ['international relations and trade'], ['international relations and trade'], ['international relations and trade'], ['international relations and trade'], ['international relations and trade'], ['international relations and trade'], ['international relations and trade'], ['international relations and trade'], ['international relations and trade'], ['international relations and trade'], ['international relations and trade'], ['international relations and trade'], ['international relations and trade'], ['international relations and trade'], ['international relations and trade'], ['international relations and trade'], ['international relations and trade'], ['international relations and trade'], ['international relations and trade'], ['international relations and trade'], ['international relations and trade'], ['international relations and trade'], ['international relations and trade'], ['international relations and trade'], ['international relations and trade'], ['international relations and trade'], ['international relations and trade'], ['international relations and trade'], ['international relations and trade'], ['international relations and trade'], ['international relations and trade'], ['international relations and trade'], ['international relations and trade'], ['international relations and trade'], ['international relations and trade'], ['international relations and trade'], ['international relations and trade'], ['international relations and trade'], ['international relations and trade'], ['international relations and trade'], ['international relations and trade'], ['international relations and trade'], ['international relations and trade'], ['international relations and trade'], ['international relations and trade'], ['international relations and trade'], ['international relations and trade'], ['international relations and trade'], ['international relations and trade'], ['international relations and trade'], ['international relations and trade'], ['international relations and trade'], ['international relations and trade'], ['international relations and trade'], ['international relations and trade'], ['international relations and trade'], ['international relations and trade'], ['international relations and trade'], ['international relations and trade'], ['international relations and trade'], ['international relations and trade'], ['international relations and trade'], ['international relations and trade'], ['international relations and trade'], ['international relations and trade'], ['international relations and trade'], ['international relations and trade'], ['international relations and trade'], ['international relations and trade'], ['international relations and trade'], ['international relations and trade'], ['international relations and trade'], ['international relations and trade'], ['international relations and trade'], ['international relations and trade'], ['international relations and trade'], ['international relations and trade'], ['international relations and trade'], ['international relations and trade'], ['international relations and trade'], ['international relations and trade'], ['international relations and trade'], ['international relations and trade'], ['international relations and trade'], ['international relations and trade'], ['international relations and trade'], ['international relations and trade'], ['international relations and trade'], ['international relations and trade'], ['international relations and trade'], ['international relations and trade'], ['international relations and trade'], ['international relations and trade'], ['international relations and trade'], ['international relations and trade'], ['international relations and trade'], ['international relations and trade'], ['international relations and trade'], ['international relations and trade'], ['international relations and trade'], ['international relations and trade'], ['international relations and trade'], ['international relations and trade'], ['international relations and trade'], ['international relations and trade'], ['international relations and trade'], ['international relations and trade'], ['international relations and trade'], ['international relations and trade'], ['international relations and trade'], ['international relations and trade'], ['international relations and trade'], ['international relations and trade'], ['international relations and trade'], ['international relations and trade'], ['international relations and trade'], ['international relations and trade'], ['international relations and trade'], ['international relations and trade'], ['international relations and trade'], ['international relations and trade'], ['international relations and trade'], ['international relations and trade'], ['international relations and trade'], ['international relations and trade'], ['international relations and trade'], ['international relations and trade'], ['international relations and trade'], ['international relations and trade'], ['international relations and trade'], ['international relations and trade'], ['international relations and trade'], ['international relations and trade'], ['international relations and trade'], ['international relations and trade'], ['international relations and trade'], ['international relations and trade'], ['international relations and trade'], ['international relations and trade'], ['international relations and trade'], ['international relations and trade'], ['international relations and trade'], ['international relations and trade'], ['international relations and trade'], ['international relations and trade'], ['international relations and trade'], ['international relations and trade'], ['international relations and trade'], ['international relations and trade'], ['international relations and trade'], ['international relations and trade'], ['international relations and trade'], ['international relations and trade'], ['international relations and trade'], ['international relations and trade'], ['international relations and trade'], ['international relations and trade'], ['international relations and trade'], ['international relations and trade'], ['international relations and trade'], ['international relations and trade'], ['international relations and trade'], ['international relations and trade'], ['international relations and trade'], ['international relations and trade'], ['international relations and trade'], ['international relations and trade'], ['international relations and trade'], ['international relations and trade'], ['international relations and trade'], ['international relations and trade'], ['international relations and trade'], ['international relations and trade'], ['international relations and trade'], ['international relations and trade'], ['international relations and trade'], ['international relations and trade'], ['international relations and trade'], ['international relations and trade'], ['international relations and trade'], ['international relations and trade'], ['international relations and trade'], ['international relations and trade'], ['international relations and trade'], ['international relations and trade'], ['international relations and trade'], ['international relations and trade'], ['international relations and trade'], ['international relations and trade'], ['international relations and trade'], ['international relations and trade'], ['international relations and trade'], ['international relations and trade'], ['international relations and trade'], ['international relations and trade'], ['international relations and trade'], ['international relations and trade'], ['international relations and trade'], ['international relations and trade'], ['international relations and trade'], ['international relations and trade'], ['international relations and trade'], ['international relations and trade'], ['international relations and trade'], ['international relations and trade'], ['international relations and trade'], ['international relations and trade'], ['international relations and trade'], ['international relations and trade'], ['international relations and trade'], ['international relations and trade'], ['international relations and trade'], ['international relations and trade'], ['international relations and trade'], ['international relations and trade'], ['international relations and trade'], ['international relations and trade'], ['international relations and trade'], ['international relations and trade'], ['international relations and trade'], ['international relations and trade'], ['international relations and trade'], ['international relations and trade'], ['international relations and trade'], ['international relations and trade'], ['international relations and trade'], ['international relations and trade'], ['international relations and trade'], ['international relations and trade'], ['international relations and trade'], ['international relations and trade'], ['international relations and trade'], ['international relations and trade'], ['international relations and trade'], ['international relations and trade'], ['international relations and trade'], ['international relations and trade'], ['international relations and trade'], ['international relations and trade'], ['international relations and trade'], ['international relations and trade'], ['international relations and trade'], ['international relations and trade'], ['international relations and trade'], ['international relations and trade'], ['international relations and trade'], ['international relations and trade'], ['international relations and trade'], ['international relations and trade'], ['international relations and trade'], ['international relations and trade'], ['international relations and trade'], ['international relations and trade'], ['international relations and trade'], ['international relations and trade'], ['international relations and trade'], ['international relations and trade'], ['international relations and trade'], ['international relations and trade'], ['international relations and trade'], ['international relations and trade'], ['international relations and trade'], ['international relations and trade'], ['international relations and trade'], ['international relations and trade'], ['international relations and trade'], ['international relations and trade'], ['international relations and trade'], ['international relations and trade'], ['international relations and trade'], ['international relations and trade'], ['international relations and trade'], ['international relations and trade'], ['international relations and trade'], ['international relations and trade'], ['international relations and trade'], ['international relations and trade'], ['international relations and trade'], ['international relations and trade'], ['international relations and trade'], ['international relations and trade'], ['international relations and trade'], ['international relations and trade'], ['international relations and trade'], ['international relations and trade'], ['international relations and trade'], ['international relations and trade'], ['international relations and trade'], ['international relations and trade'], ['international relations and trade'], ['international relations and trade'], ['international relations and trade'], ['international relations and trade'], ['international relations and trade'], ['international relations and trade'], ['international relations and trade'], ['international relations and trade'], ['international relations and trade'], ['international relations and trade'], ['international relations and trade'], ['international relations and trade'], ['international relations and trade'], ['international relations and trade'], ['international relations and trade'], ['international relations and trade'], ['international relations and trade'], ['international relations and trade'], ['international relations and trade'], ['international relations and trade'], ['international relations and trade'], ['international relations and trade'], ['international relations and trade'], ['international relations and trade'], ['international relations and trade'], ['international relations and trade'], ['international relations and trade'], ['international relations and trade'], ['international relations and trade'], ['international relations and trade'], ['international relations and trade'], ['international relations and trade'], ['international relations and trade'], ['international relations and trade'], ['international relations and trade'], ['international relations and trade'], ['international relations and trade'], ['international relations and trade'], ['international relations and trade'], ['international relations and trade'], ['international relations and trade'], ['international relations and trade'], ['international relations and trade'], ['international relations and trade'], ['international relations and trade'], ['international relations and trade'], ['international relations and trade'], ['international relations and trade'], ['international relations and trade'], ['international relations and trade'], ['international relations and trade'], ['international relations and trade'], ['international relations and trade'], ['international relations and trade'], ['international relations and trade'], ['international relations and trade'], ['international relations and trade'], ['international relations and trade'], ['international relations and trade'], ['international relations and trade'], ['international relations and trade'], ['international relations and trade'], ['international relations and trade'], ['international relations and trade'], ['international relations and trade'], ['international relations and trade'], ['international relations and trade'], ['international relations and trade'], ['international relations and trade'], ['international relations and trade'], ['international relations and trade'], ['international relations and trade'], ['international relations and trade'], ['international relations and trade'], ['international relations and trade'], ['international relations and trade'], ['international relations and trade'], ['international relations and trade'], ['international relations and trade'], ['international relations and trade'], ['international relations and trade'], ['international relations and trade'], ['international relations and trade'], ['international relations and trade'], ['international relations and trade'], ['international relations and trade'], ['international relations and trade'], ['international relations and trade'], ['international relations and trade'], ['international relations and trade'], ['international relations and trade'], ['international relations and trade'], ['international relations and trade'], ['international relations and trade'], ['international relations and trade'], ['international relations and trade'], ['international relations and trade'], ['international relations and trade'], ['international relations and trade'], ['international relations and trade'], ['international relations and trade'], ['international relations and trade'], ['international relations and trade'], ['international relations and trade'], ['international relations and trade'], ['international relations and trade'], ['international relations and trade'], ['international relations and trade'], ['international relations and trade'], ['international relations and trade'], ['international relations and trade'], ['international relations and trade'], ['international relations and trade'], ['international relations and trade'], ['international relations and trade'], ['international relations and trade'], ['international relations and trade'], ['international relations and trade'], ['international relations and trade'], ['international relations and trade'], ['international relations and trade'], ['international relations and trade'], ['international relations and trade'], ['international relations and trade'], ['international relations and trade'], ['international relations and trade'], ['international relations and trade'], ['international relations and trade'], ['international relations and trade'], ['international relations and trade'], ['international relations and trade'], ['international relations and trade'], ['international relations and trade'], ['international relations and trade'], ['international relations and trade'], ['international relations and trade'], ['international relations and trade'], ['international relations and trade'], ['international relations and trade'], ['international relations and trade'], ['international relations and trade'], ['international relations and trade'], ['international relations and trade'], ['international relations and trade'], ['international relations and trade'], ['international relations and trade'], ['international relations and trade'], ['international relations and trade'], ['international relations and trade'], ['international relations and trade'], ['international relations and trade'], ['international relations and trade'], ['international relations and trade'], ['international relations and trade'], ['international relations and trade'], ['international relations and trade'], ['international relations and trade'], ['international relations and trade'], ['international relations and trade'], ['international relations and trade'], ['international relations and trade'], ['international relations and trade'], ['international relations and trade'], ['international relations and trade'], ['international relations and trade'], ['international relations and trade'], ['international relations and trade'], ['international relations and trade'], ['international relations and trade'], ['international relations and trade'], ['international relations and trade'], ['international relations and trade'], ['international relations and trade'], ['international relations and trade'], ['international relations and trade'], ['international relations and trade'], ['international relations and trade'], ['international relations and trade'], ['international relations and trade'], ['international relations and trade'], ['international relations and trade'], ['international relations and trade'], ['international relations and trade'], ['international relations and trade'], ['international relations and trade'], ['international relations and trade'], ['international relations and trade'], ['international relations and trade'], ['international relations and trade'], ['international relations and trade'], ['international relations and trade'], ['international relations and trade'], ['international relations and trade'], ['international relations and trade'], ['international relations and trade'], ['international relations and trade'], ['international relations and trade'], ['international relations and trade'], ['international relations and trade'], ['international relations and trade'], ['international relations and trade'], ['international relations and trade'], ['international relations and trade'], ['international relations and trade'], ['international relations and trade'], ['international relations and trade'], ['international relations and trade'], ['international relations and trade'], ['international relations and trade'], ['international relations and trade']]\n"
     ]
    }
   ],
   "source": [
    "prediction = model.predict(test_x)\n",
    "pred = (prediction > 0.01).astype(int)\n",
    "pred_theme = [[categories[i] for i in range(len(categories)) if pred[j, i] == 1] for j in range(len(pred))]\n",
    "\n",
    "print(pred_theme)"
   ]
  },
  {
   "cell_type": "markdown",
   "metadata": {},
   "source": [
    "#### Evaluation of model"
   ]
  },
  {
   "cell_type": "code",
   "execution_count": 43,
   "metadata": {},
   "outputs": [
    {
     "name": "stdout",
     "output_type": "stream",
     "text": [
      "                                      precision    recall  f1-score   support\n",
      "\n",
      "       corporate and business topics       0.00      0.00      0.00         3\n",
      "         labor and employment issues       0.00      0.00      0.00         0\n",
      "privacy, security, and cyber matters       0.00      0.00      0.00         0\n",
      "             legal and crime stories       0.00      0.00      0.00         0\n",
      "  government actions and regulations       0.00      0.00      0.00         0\n",
      "       technology and digital trends       0.00      0.00      0.00         5\n",
      "      environment and climate topics       0.00      0.00      0.00         2\n",
      "          social issues and activism       0.00      0.00      0.00         0\n",
      "             healthcare and medicine       0.00      0.00      0.00         1\n",
      "       community and cultural events       0.00      0.00      0.00         1\n",
      "   international relations and trade       0.01      1.00      0.02        10\n",
      "              education and learning       0.00      0.00      0.00         0\n",
      "                     consumer topics       0.00      0.00      0.00         2\n",
      "      infrastructure and development       0.00      0.00      0.00         1\n",
      "                energy and resources       0.00      0.00      0.00         0\n",
      "       political topics and protests       0.00      0.00      0.00         5\n",
      "             media and communication       0.00      0.00      0.00         2\n",
      "     financial policies and taxation       0.00      0.00      0.00         0\n",
      "     human rights and social justice       0.00      0.00      0.00         0\n",
      "   science, research, and innovation       0.00      0.00      0.00         0\n",
      "      disaster and crisis management       0.00      0.00      0.00         0\n",
      "     organized crime and trafficking       0.00      0.00      0.00         0\n",
      "  sports, entertainment, and leisure       0.00      0.00      0.00         0\n",
      "                               other       0.00      0.00      0.00         6\n",
      "                            military       0.00      0.00      0.00        18\n",
      "\n",
      "                           micro avg       0.01      0.18      0.02        56\n",
      "                           macro avg       0.00      0.04      0.00        56\n",
      "                        weighted avg       0.00      0.18      0.00        56\n",
      "                         samples avg       0.01      0.01      0.01        56\n",
      "\n",
      "Hamming Loss:  0.041591160220994475\n",
      "F1 Score:  0.0008743169398907104\n",
      "Jaccard Score:  0.009392265193370166\n"
     ]
    },
    {
     "name": "stderr",
     "output_type": "stream",
     "text": [
      "c:\\Users\\axlee\\AppData\\Local\\Programs\\Python\\Python312\\Lib\\site-packages\\sklearn\\metrics\\_classification.py:1531: UndefinedMetricWarning: Precision is ill-defined and being set to 0.0 in labels with no predicted samples. Use `zero_division` parameter to control this behavior.\n",
      "  _warn_prf(average, modifier, f\"{metric.capitalize()} is\", len(result))\n",
      "c:\\Users\\axlee\\AppData\\Local\\Programs\\Python\\Python312\\Lib\\site-packages\\sklearn\\metrics\\_classification.py:1531: UndefinedMetricWarning: Recall is ill-defined and being set to 0.0 in labels with no true samples. Use `zero_division` parameter to control this behavior.\n",
      "  _warn_prf(average, modifier, f\"{metric.capitalize()} is\", len(result))\n",
      "c:\\Users\\axlee\\AppData\\Local\\Programs\\Python\\Python312\\Lib\\site-packages\\sklearn\\metrics\\_classification.py:1531: UndefinedMetricWarning: F-score is ill-defined and being set to 0.0 in labels with no true nor predicted samples. Use `zero_division` parameter to control this behavior.\n",
      "  _warn_prf(average, modifier, f\"{metric.capitalize()} is\", len(result))\n",
      "c:\\Users\\axlee\\AppData\\Local\\Programs\\Python\\Python312\\Lib\\site-packages\\sklearn\\metrics\\_classification.py:1531: UndefinedMetricWarning: Recall is ill-defined and being set to 0.0 in samples with no true labels. Use `zero_division` parameter to control this behavior.\n",
      "  _warn_prf(average, modifier, f\"{metric.capitalize()} is\", len(result))\n",
      "c:\\Users\\axlee\\AppData\\Local\\Programs\\Python\\Python312\\Lib\\site-packages\\sklearn\\metrics\\_classification.py:1531: UndefinedMetricWarning: F-score is ill-defined and being set to 0.0 in labels with no true nor predicted samples. Use `zero_division` parameter to control this behavior.\n",
      "  _warn_prf(average, modifier, f\"{metric.capitalize()} is\", len(result))\n"
     ]
    }
   ],
   "source": [
    "from sklearn.metrics import classification_report\n",
    "print(classification_report(\n",
    "    test_y, \n",
    "    pred, \n",
    "    target_names = categories\n",
    "))\n",
    "\n",
    "\n",
    "\n",
    "# Hamming Loss (the lower the better)\n",
    "from sklearn.metrics import hamming_loss\n",
    "hl = hamming_loss(test_y, pred)\n",
    "print(\"Hamming Loss: \", hl)\n",
    "\n",
    "# F1 score (the higher the better)\n",
    "from sklearn.metrics import f1_score\n",
    "f1 = f1_score(\n",
    "    test_y, \n",
    "    pred, \n",
    "    average = \"macro\"\n",
    ")\n",
    "print(\"F1 Score: \", f1)\n",
    "\n",
    "# Jaccard Score (the higher the better)\n",
    "from sklearn.metrics import jaccard_score \n",
    "jaccard = jaccard_score(\n",
    "    test_y, \n",
    "    pred, \n",
    "    average = \"samples\"\n",
    ")\n",
    "print(\"Jaccard Score: \", jaccard)\n"
   ]
  }
 ],
 "metadata": {
  "kernelspec": {
   "display_name": "Python 3",
   "language": "python",
   "name": "python3"
  },
  "language_info": {
   "codemirror_mode": {
    "name": "ipython",
    "version": 3
   },
   "file_extension": ".py",
   "mimetype": "text/x-python",
   "name": "python",
   "nbconvert_exporter": "python",
   "pygments_lexer": "ipython3",
   "version": "3.12.1"
  }
 },
 "nbformat": 4,
 "nbformat_minor": 2
}
