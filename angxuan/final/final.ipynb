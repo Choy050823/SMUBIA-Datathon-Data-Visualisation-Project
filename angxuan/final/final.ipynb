{
 "cells": [
  {
   "cell_type": "markdown",
   "metadata": {},
   "source": [
    "## FEATURE EXTRACTION"
   ]
  },
  {
   "cell_type": "markdown",
   "metadata": {},
   "source": [
    "### Import Libraries"
   ]
  },
  {
   "cell_type": "code",
   "execution_count": 1,
   "metadata": {},
   "outputs": [],
   "source": [
    "import pandas as pd\n",
    "import numpy as np\n",
    "from wordcloud import WordCloud # for wordcloud\n",
    "import matplotlib.pyplot as plt # for wordcloud\n",
    "from sklearn.feature_extraction.text import TfidfVectorizer\n",
    "from sklearn.metrics import classification_report\n",
    "from sklearn.ensemble import RandomForestClassifier\n",
    "from gensim.models import Word2Vec\n",
    "from nltk.tokenize import word_tokenize\n",
    "import nltk\n",
    "from sklearn.linear_model import LogisticRegression\n",
    "from sklearn.model_selection import train_test_split\n",
    "from sklearn.metrics import f1_score"
   ]
  },
  {
   "cell_type": "markdown",
   "metadata": {},
   "source": [
    "### Import Data"
   ]
  },
  {
   "cell_type": "code",
   "execution_count": 5,
   "metadata": {},
   "outputs": [],
   "source": [
    "# import a more balance train data\n",
    "train_data = pd.read_csv('updated_more_balanced_data.csv') # obtain balance data from the first 600 data manually\n",
    "test_data = pd.read_csv('first_600_manually_add_theme.csv')\n",
    "\n",
    "test_x = test_data[\"summary\"]\n",
    "test_y = test_data[\"theme\"]\n",
    "\n",
    "train_x = train_data[\"summary\"]\n",
    "train_y = train_data[\"theme\"]\n",
    "\n",
    "categories = [\"corporate and business topics\", \n",
    "              \"labor and employment issues\", \n",
    "              \"privacy, security, and cyber matters\", \n",
    "              \"legal and crime stories\", \n",
    "              \"government actions and regulations\", \n",
    "              \"technology and digital trends\", \n",
    "              \"environment and climate topics\", \n",
    "              \"social issues and activism\", \n",
    "              \"healthcare and medicine\", \n",
    "              \"community and cultural events\", \n",
    "              \"international relations and trade\", \n",
    "              \"education and learning\", \n",
    "              \"consumer topics\", \n",
    "              \"infrastructure and development\", \n",
    "              \"energy and resources\", \n",
    "              \"political topics and protests\", \n",
    "              \"media and communication\", \n",
    "              \"financial policies and taxation\", \n",
    "              \"human rights and social justice\", \n",
    "              \"science, research, and innovation\", \n",
    "              \"disaster and crisis management\", \n",
    "              \"organized crime and trafficking\", \n",
    "              \"sports, entertainment, and leisure\", \n",
    "              \"other\", \n",
    "              \"military\"]\n",
    "\n",
    "y_encoded = []\n",
    "for each_theme in train_y:\n",
    "    each_row = []\n",
    "    for category in categories:\n",
    "        if category in each_theme.lower():\n",
    "            each_row.append(1)\n",
    "        else:\n",
    "            each_row.append(0)\n",
    "    y_encoded.append(each_row)\n",
    "\n",
    "# convert to dataframe\n",
    "y_encoded = pd.DataFrame(y_encoded, columns = categories)\n",
    "train_y = y_encoded\n",
    "\n",
    "y_encoded = []\n",
    "for each_theme in test_y:\n",
    "    each_row = []\n",
    "    for category in categories:\n",
    "        if category in each_theme.lower():\n",
    "            each_row.append(1)\n",
    "        else:\n",
    "            each_row.append(0)\n",
    "    y_encoded.append(each_row)\n",
    "\n",
    "y_encoded = pd.DataFrame(y_encoded, columns = categories)\n",
    "test_y = y_encoded   "
   ]
  },
  {
   "cell_type": "markdown",
   "metadata": {},
   "source": [
    "### Word2Vec (FINAL)"
   ]
  },
  {
   "cell_type": "code",
   "execution_count": 6,
   "metadata": {},
   "outputs": [],
   "source": [
    "# tokenize all the sentences\n",
    "tokenized_sentences = [word_tokenize(each_line[0].lower()) for each_line in train_data[\"summary\"]]\n",
    "\n",
    "# train word2vec model\n",
    "word2vec_model = Word2Vec(\n",
    "    sentences = tokenized_sentences, \n",
    "    vector_size = 1000, \n",
    "    window = 5, \n",
    "    min_count = 1, \n",
    "    workers = 4\n",
    ")\n",
    "\n",
    "# generate document vectors\n",
    "def vectorize_doc(each_line):\n",
    "    # remove out of vocab words\n",
    "    words = [word for word in each_line if word in word2vec_model.wv]\n",
    "    return np.mean(word2vec_model.wv[words], axis = 0) if words else np.zeros(word2vec_model.vector_size)\n",
    "\n",
    "# create feature vectors \n",
    "train_x = np.array([vectorize_doc(word_tokenize(each_line.lower())) for each_line in train_data[\"summary\"]])\n",
    "test_x = np.array([vectorize_doc(word_tokenize(each_line.lower())) for each_line in test_data[\"summary\"]])"
   ]
  },
  {
   "cell_type": "markdown",
   "metadata": {},
   "source": [
    "### TFIDF"
   ]
  },
  {
   "cell_type": "code",
   "execution_count": 7,
   "metadata": {},
   "outputs": [],
   "source": [
    "# word pattern\n",
    "pattern = r\"[a-zA-Z]+\"\n",
    "\n",
    "vectorizer = TfidfVectorizer(\n",
    "    token_pattern = pattern, \n",
    "    stop_words = 'english', \n",
    "    ngram_range = (1, 2), # need to do the hyperparameter tuning for this later\n",
    "    max_features = 100000 # can adjust to larger num too\n",
    ")\n",
    "\n",
    "vectorizer.fit(test_x)\n",
    "\n",
    "\n",
    "# tokenization - create matrix\n",
    "train_tokenized_features = vectorizer.transform(train_data[\"summary\"])\n",
    "test_tokenized_features = vectorizer.transform(test_data[\"summary\"])\n",
    "\n",
    "\n",
    "# create a dataframe\n",
    "train_features = pd.DataFrame(\n",
    "    data = train_tokenized_features.toarray(), \n",
    "    columns = vectorizer.get_feature_names_out()\n",
    ")\n",
    "test_features = pd.DataFrame(\n",
    "    data = test_tokenized_features.toarray(), \n",
    "    columns = vectorizer.get_feature_names_out()\n",
    ")\n",
    "\n",
    "\n",
    "train_data[\"char_count\"] = train_data[\"summary\"].str.count(r\"\\S\")\n",
    "train_data[\"word_count\"] = train_data[\"summary\"].str.count(pattern)\n",
    "train_data[\"avg_word_length\"] = train_data[\"char_count\"] / train_data[\"word_count\"]\n",
    "train_x = pd.concat([train_features, train_data.loc[:, \"char_count\": ]], axis = 1)\n",
    "\n",
    "test_data[\"char_count\"] = test_data[\"summary\"].str.count(r\"\\S\")\n",
    "test_data[\"word_count\"] = test_data[\"summary\"].str.count(pattern)\n",
    "test_data[\"avg_word_length\"] = test_data[\"char_count\"] / test_data[\"word_count\"]\n",
    "test_x = pd.concat([test_features, test_data.loc[:, \"char_count\": ]], axis = 1)\n"
   ]
  },
  {
   "cell_type": "markdown",
   "metadata": {},
   "source": [
    "## MODEL SELECTIONS"
   ]
  },
  {
   "cell_type": "markdown",
   "metadata": {},
   "source": [
    "### Random Forest Classifier (FINAL)"
   ]
  },
  {
   "cell_type": "code",
   "execution_count": 7,
   "metadata": {},
   "outputs": [],
   "source": [
    "# label powerset\n",
    "# it can capture label dependencies but if too many label combinations\n",
    "# it will lead to poor performance\n",
    "\n",
    "from skmultilearn.problem_transform import LabelPowerset\n",
    "\n",
    "model = LabelPowerset(RandomForestClassifier(n_estimators = 100, \n",
    "                                             random_state = 59))\n",
    "model.fit(train_x, train_y)\n",
    "pred = model.predict(test_x)\n"
   ]
  },
  {
   "cell_type": "markdown",
   "metadata": {},
   "source": [
    "### Softmax Regression (One vs All)"
   ]
  },
  {
   "cell_type": "code",
   "execution_count": null,
   "metadata": {},
   "outputs": [],
   "source": [
    "from sklearn.multiclass import OneVsRestClassifier\n",
    "model = OneVsRestClassifier(LogisticRegression())\n",
    "model.fit(train_x, train_y)\n",
    "\n",
    "prediction = model.predict(test_x)\n",
    "pred = (prediction > 0.001).astype(int)\n",
    "pred_theme = [[categories[i] for i in range(len(categories)) if pred[j, i] == 1] for j in range(len(pred))]"
   ]
  },
  {
   "cell_type": "markdown",
   "metadata": {},
   "source": [
    "### Support Vector Machine (SVM)"
   ]
  },
  {
   "cell_type": "code",
   "execution_count": null,
   "metadata": {},
   "outputs": [],
   "source": [
    "# label powerset\n",
    "\n",
    "model = SVC(kernel = 'rbf', # can change to 'rbf'\n",
    "            )\n",
    "model = LabelPowerset(model)\n",
    "\n",
    "model.fit(train_x, train_y)\n",
    "\n",
    "pred = model.predict(test_x)\n",
    "print(\"Accuracy: \", accuracy_score(test_y, pred))\n",
    "print(\"Hamming Loss: \", hamming_loss(test_y, pred))"
   ]
  },
  {
   "cell_type": "markdown",
   "metadata": {},
   "source": [
    "### Evaluations of Models"
   ]
  },
  {
   "cell_type": "code",
   "execution_count": 8,
   "metadata": {},
   "outputs": [
    {
     "name": "stdout",
     "output_type": "stream",
     "text": [
      "                                      precision    recall  f1-score   support\n",
      "\n",
      "       corporate and business topics       0.25      0.04      0.07        51\n",
      "         labor and employment issues       0.00      0.00      0.00        24\n",
      "privacy, security, and cyber matters       0.03      0.56      0.05        16\n",
      "             legal and crime stories       1.00      0.01      0.03        69\n",
      "  government actions and regulations       0.09      0.02      0.03        52\n",
      "       technology and digital trends       0.38      0.09      0.14        34\n",
      "      environment and climate topics       0.00      0.00      0.00         7\n",
      "          social issues and activism       0.00      0.00      0.00        27\n",
      "             healthcare and medicine       0.00      0.00      0.00        58\n",
      "       community and cultural events       0.00      0.00      0.00        22\n",
      "   international relations and trade       0.45      0.05      0.09       100\n",
      "              education and learning       0.00      0.00      0.00        20\n",
      "                     consumer topics       0.08      0.14      0.10         7\n",
      "      infrastructure and development       0.09      0.14      0.11         7\n",
      "                energy and resources       0.00      0.00      0.00         7\n",
      "       political topics and protests       0.00      0.00      0.00        19\n",
      "             media and communication       0.00      0.00      0.00        12\n",
      "     financial policies and taxation       0.09      0.08      0.08        13\n",
      "     human rights and social justice       0.02      0.57      0.04         7\n",
      "   science, research, and innovation       0.00      0.00      0.00         4\n",
      "      disaster and crisis management       0.00      0.00      0.00         3\n",
      "     organized crime and trafficking       0.14      0.29      0.19         7\n",
      "  sports, entertainment, and leisure       0.33      0.05      0.08        22\n",
      "                               other       0.00      0.00      0.00        29\n",
      "                            military       1.00      0.03      0.05        40\n",
      "\n",
      "                           micro avg       0.05      0.05      0.05       657\n",
      "                           macro avg       0.16      0.08      0.04       657\n",
      "                        weighted avg       0.30      0.05      0.05       657\n",
      "                         samples avg       0.04      0.04      0.04       657\n",
      "\n",
      "Hamming Loss:  0.0816\n",
      "F1 Score:  0.04257029768172584\n",
      "Jaccard Score:  0.03972222222222222\n",
      "Accuracy:  0.03666666666666667\n"
     ]
    },
    {
     "name": "stderr",
     "output_type": "stream",
     "text": [
      "c:\\Users\\axlee\\AppData\\Local\\Programs\\Python\\Python312\\Lib\\site-packages\\sklearn\\metrics\\_classification.py:1531: UndefinedMetricWarning: Precision is ill-defined and being set to 0.0 in labels with no predicted samples. Use `zero_division` parameter to control this behavior.\n",
      "  _warn_prf(average, modifier, f\"{metric.capitalize()} is\", len(result))\n",
      "c:\\Users\\axlee\\AppData\\Local\\Programs\\Python\\Python312\\Lib\\site-packages\\sklearn\\metrics\\_classification.py:1531: UndefinedMetricWarning: Recall is ill-defined and being set to 0.0 in samples with no true labels. Use `zero_division` parameter to control this behavior.\n",
      "  _warn_prf(average, modifier, f\"{metric.capitalize()} is\", len(result))\n"
     ]
    }
   ],
   "source": [
    "print(classification_report(\n",
    "    test_y, \n",
    "    pred, \n",
    "    target_names = categories\n",
    "))\n",
    "\n",
    "# Hamming Loss (the lower the better)\n",
    "print(\"Hamming Loss: \", hamming_loss(test_y, pred))\n",
    "\n",
    "# F1 score (the higher the better)\n",
    "print(\"F1 Score: \", f1_score(\n",
    "    test_y, \n",
    "    pred, \n",
    "    average = \"macro\"\n",
    "))\n",
    "\n",
    "# Jaccard Score (the higher the better)\n",
    "print(\"Jaccard Score: \", jaccard_score(\n",
    "    test_y, \n",
    "    pred, \n",
    "    average = \"samples\"\n",
    "))\n",
    "\n",
    "# Accuracy\n",
    "print(\"Accuracy: \", accuracy_score(test_y, pred))"
   ]
  }
 ],
 "metadata": {
  "kernelspec": {
   "display_name": "Python 3",
   "language": "python",
   "name": "python3"
  },
  "language_info": {
   "codemirror_mode": {
    "name": "ipython",
    "version": 3
   },
   "file_extension": ".py",
   "mimetype": "text/x-python",
   "name": "python",
   "nbconvert_exporter": "python",
   "pygments_lexer": "ipython3",
   "version": "3.12.1"
  }
 },
 "nbformat": 4,
 "nbformat_minor": 2
}
