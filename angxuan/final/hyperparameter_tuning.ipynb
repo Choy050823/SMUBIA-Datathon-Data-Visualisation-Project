{
 "cells": [
  {
   "cell_type": "markdown",
   "metadata": {},
   "source": [
    "### Import Libraries"
   ]
  },
  {
   "cell_type": "code",
   "execution_count": 4,
   "metadata": {},
   "outputs": [],
   "source": [
    "import pandas as pd\n",
    "import numpy as np\n",
    "from wordcloud import WordCloud # for wordcloud\n",
    "import matplotlib.pyplot as plt # for wordcloud\n",
    "from sklearn.feature_extraction.text import TfidfVectorizer\n",
    "from sklearn.metrics import classification_report\n",
    "from sklearn.ensemble import RandomForestClassifier\n",
    "from gensim.models import Word2Vec\n",
    "from nltk.tokenize import word_tokenize\n",
    "import nltk\n",
    "from sklearn.linear_model import LogisticRegression\n",
    "from sklearn.model_selection import train_test_split\n",
    "from sklearn.metrics import f1_score\n",
    "from sklearn.metrics import classification_report, hamming_loss, f1_score, jaccard_score, accuracy_score\n",
    "from itertools import product\n",
    "from skmultilearn.problem_transform import LabelPowerset"
   ]
  },
  {
   "cell_type": "markdown",
   "metadata": {},
   "source": [
    "### Import Data"
   ]
  },
  {
   "cell_type": "code",
   "execution_count": 5,
   "metadata": {},
   "outputs": [],
   "source": [
    "# import a more balance train data\n",
    "train_data = pd.read_csv('updated_more_balanced_data.csv') # obtain balance data from the first 600 data manually\n",
    "test_data = pd.read_csv('first_600_manually_add_theme.csv')\n",
    "\n",
    "test_x = test_data[\"summary\"]\n",
    "test_y = test_data[\"theme\"]\n",
    "\n",
    "train_x = train_data[\"summary\"]\n",
    "train_y = train_data[\"theme\"]\n",
    "\n",
    "categories = [\"corporate and business topics\", \n",
    "              \"labor and employment issues\", \n",
    "              \"privacy, security, and cyber matters\", \n",
    "              \"legal and crime stories\", \n",
    "              \"government actions and regulations\", \n",
    "              \"technology and digital trends\", \n",
    "              \"environment and climate topics\", \n",
    "              \"social issues and activism\", \n",
    "              \"healthcare and medicine\", \n",
    "              \"community and cultural events\", \n",
    "              \"international relations and trade\", \n",
    "              \"education and learning\", \n",
    "              \"consumer topics\", \n",
    "              \"infrastructure and development\", \n",
    "              \"energy and resources\", \n",
    "              \"political topics and protests\", \n",
    "              \"media and communication\", \n",
    "              \"financial policies and taxation\", \n",
    "              \"human rights and social justice\", \n",
    "              \"science, research, and innovation\", \n",
    "              \"disaster and crisis management\", \n",
    "              \"organized crime and trafficking\", \n",
    "              \"sports, entertainment, and leisure\", \n",
    "              \"other\", \n",
    "              \"military\"]\n",
    "\n",
    "y_encoded = []\n",
    "for each_theme in train_y:\n",
    "    each_row = []\n",
    "    for category in categories:\n",
    "        if category in each_theme.lower():\n",
    "            each_row.append(1)\n",
    "        else:\n",
    "            each_row.append(0)\n",
    "    y_encoded.append(each_row)\n",
    "\n",
    "# convert to dataframe\n",
    "y_encoded = pd.DataFrame(y_encoded, columns = categories)\n",
    "train_y = y_encoded\n",
    "\n",
    "y_encoded = []\n",
    "for each_theme in test_y:\n",
    "    each_row = []\n",
    "    for category in categories:\n",
    "        if category in each_theme.lower():\n",
    "            each_row.append(1)\n",
    "        else:\n",
    "            each_row.append(0)\n",
    "    y_encoded.append(each_row)\n",
    "\n",
    "y_encoded = pd.DataFrame(y_encoded, columns = categories)\n",
    "test_y = y_encoded   "
   ]
  },
  {
   "cell_type": "markdown",
   "metadata": {},
   "source": [
    "# FEATURE SELECTION - WORD2VEC"
   ]
  },
  {
   "cell_type": "code",
   "execution_count": 6,
   "metadata": {},
   "outputs": [],
   "source": [
    "# tokenize all the sentences\n",
    "tokenized_sentences = [word_tokenize(each_line[0].lower()) for each_line in train_data[\"summary\"]]\n",
    "\n",
    "# train word2vec model\n",
    "word2vec_model = Word2Vec(\n",
    "    sentences = tokenized_sentences, \n",
    "    vector_size = 1000, \n",
    "    window = 5, \n",
    "    min_count = 1, \n",
    "    workers = 4\n",
    ")\n",
    "\n",
    "# generate document vectors\n",
    "def vectorize_doc(each_line):\n",
    "    # remove out of vocab words\n",
    "    words = [word for word in each_line if word in word2vec_model.wv]\n",
    "    return np.mean(word2vec_model.wv[words], axis = 0) if words else np.zeros(word2vec_model.vector_size)\n",
    "\n",
    "# create feature vectors \n",
    "train_x = np.array([vectorize_doc(word_tokenize(each_line.lower())) for each_line in train_data[\"summary\"]])\n",
    "test_x = np.array([vectorize_doc(word_tokenize(each_line.lower())) for each_line in test_data[\"summary\"]])"
   ]
  },
  {
   "cell_type": "markdown",
   "metadata": {},
   "source": [
    "tuning using Grid Search\n",
    "\n",
    "need to tune:\n",
    "\n",
    "vector_size, window, min_count, sg, hs and negative, epochs, alpha and min_alpha, "
   ]
  },
  {
   "cell_type": "code",
   "execution_count": 11,
   "metadata": {},
   "outputs": [
    {
     "name": "stdout",
     "output_type": "stream",
     "text": [
      "F1 Score:  0.04257029768172584\n",
      "100 3 1 0 0\n"
     ]
    }
   ],
   "source": [
    "vector_sizes = [100, 200, 300]\n",
    "windows = [3, 5, 7, 10]\n",
    "min_counts = [1, 2, 3, 4, 5]\n",
    "sgs = [0, 1]\n",
    "hs = [0, 1]\n",
    "\n",
    "tuned_model = None\n",
    "tuned_score = -float('inf')\n",
    "\n",
    "\n",
    "highest = 0\n",
    "for vector_size, window, min_count, sg, each_hs in product(vector_sizes, windows, min_counts, sgs, hs):\n",
    "    model = Word2Vec(train_data[\"summary\"], \n",
    "                      vector_size = vector_size, \n",
    "                      window = window, \n",
    "                      min_count = min_count, \n",
    "                      sg = sg, \n",
    "                      hs = each_hs\n",
    "                      )\n",
    "    \n",
    "    # create feature vectors \n",
    "    train_x = np.array([vectorize_doc(word_tokenize(each_line.lower())) for each_line in train_data[\"summary\"]])\n",
    "    test_x = np.array([vectorize_doc(word_tokenize(each_line.lower())) for each_line in test_data[\"summary\"]])\n",
    "\n",
    "    # label powerset\n",
    "    # it can capture label dependencies but if too many label combinations\n",
    "    # it will lead to poor performance\n",
    "\n",
    "\n",
    "\n",
    "    model = LabelPowerset(RandomForestClassifier(n_estimators = 100, \n",
    "                                                random_state = 59))\n",
    "    model.fit(train_x, train_y)\n",
    "    pred = model.predict(test_x)\n",
    "    if accuracy_score(test_y, pred) > highest:\n",
    "        highest = accuracy_score(test_y, pred)\n",
    "        print(\"Accuracy: \", highest)\n",
    "        print(vector_size, window, min_count, sg, each_hs)\n"
   ]
  },
  {
   "cell_type": "markdown",
   "metadata": {},
   "source": [
    "The metrics do not change throughout the all the tuning. Hence, the current hyperparameters do not need to be changed."
   ]
  },
  {
   "cell_type": "code",
   "execution_count": null,
   "metadata": {},
   "outputs": [],
   "source": []
  }
 ],
 "metadata": {
  "kernelspec": {
   "display_name": "Python 3",
   "language": "python",
   "name": "python3"
  },
  "language_info": {
   "codemirror_mode": {
    "name": "ipython",
    "version": 3
   },
   "file_extension": ".py",
   "mimetype": "text/x-python",
   "name": "python",
   "nbconvert_exporter": "python",
   "pygments_lexer": "ipython3",
   "version": "3.12.1"
  }
 },
 "nbformat": 4,
 "nbformat_minor": 2
}
