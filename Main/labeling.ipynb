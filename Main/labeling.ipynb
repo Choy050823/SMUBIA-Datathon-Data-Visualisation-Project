{
  "cells": [
    {
      "cell_type": "code",
      "execution_count": 1,
      "metadata": {
        "colab": {
          "base_uri": "https://localhost:8080/"
        },
        "id": "uO9v2uRxUDFX",
        "outputId": "7df28d6b-2ef9-44f1-9eee-4c209a0a5944"
      },
      "outputs": [
        {
          "name": "stdout",
          "output_type": "stream",
          "text": [
            "Note: you may need to restart the kernel to use updated packages.Requirement already satisfied: pandas in c:\\users\\choym\\appdata\\local\\programs\\python\\python312\\lib\\site-packages (2.2.2)\n",
            "Requirement already satisfied: tqdm in c:\\users\\choym\\appdata\\local\\programs\\python\\python312\\lib\\site-packages (4.66.5)\n",
            "Collecting anthropic\n",
            "  Downloading anthropic-0.45.2-py3-none-any.whl.metadata (23 kB)\n",
            "Requirement already satisfied: numpy>=1.26.0 in c:\\users\\choym\\appdata\\local\\programs\\python\\python312\\lib\\site-packages (from pandas) (1.26.4)\n",
            "Requirement already satisfied: python-dateutil>=2.8.2 in c:\\users\\choym\\appdata\\local\\programs\\python\\python312\\lib\\site-packages (from pandas) (2.9.0.post0)\n",
            "Requirement already satisfied: pytz>=2020.1 in c:\\users\\choym\\appdata\\local\\programs\\python\\python312\\lib\\site-packages (from pandas) (2024.1)\n",
            "Requirement already satisfied: tzdata>=2022.7 in c:\\users\\choym\\appdata\\local\\programs\\python\\python312\\lib\\site-packages (from pandas) (2024.1)\n",
            "Requirement already satisfied: colorama in c:\\users\\choym\\appdata\\roaming\\python\\python312\\site-packages (from tqdm) (0.4.6)\n",
            "Requirement already satisfied: anyio<5,>=3.5.0 in c:\\users\\choym\\appdata\\local\\programs\\python\\python312\\lib\\site-packages (from anthropic) (4.5.0)\n",
            "Requirement already satisfied: distro<2,>=1.7.0 in c:\\users\\choym\\appdata\\local\\programs\\python\\python312\\lib\\site-packages (from anthropic) (1.9.0)\n",
            "Requirement already satisfied: httpx<1,>=0.23.0 in c:\\users\\choym\\appdata\\local\\programs\\python\\python312\\lib\\site-packages (from anthropic) (0.27.2)\n",
            "Requirement already satisfied: jiter<1,>=0.4.0 in c:\\users\\choym\\appdata\\local\\programs\\python\\python312\\lib\\site-packages (from anthropic) (0.5.0)\n",
            "Requirement already satisfied: pydantic<3,>=1.9.0 in c:\\users\\choym\\appdata\\local\\programs\\python\\python312\\lib\\site-packages (from anthropic) (2.9.2)\n",
            "Requirement already satisfied: sniffio in c:\\users\\choym\\appdata\\local\\programs\\python\\python312\\lib\\site-packages (from anthropic) (1.3.1)\n",
            "Requirement already satisfied: typing-extensions<5,>=4.10 in c:\\users\\choym\\appdata\\local\\programs\\python\\python312\\lib\\site-packages (from anthropic) (4.12.2)\n",
            "Requirement already satisfied: idna>=2.8 in c:\\users\\choym\\appdata\\local\\programs\\python\\python312\\lib\\site-packages (from anyio<5,>=3.5.0->anthropic) (3.10)\n",
            "Requirement already satisfied: certifi in c:\\users\\choym\\appdata\\local\\programs\\python\\python312\\lib\\site-packages (from httpx<1,>=0.23.0->anthropic) (2024.8.30)\n",
            "Requirement already satisfied: httpcore==1.* in c:\\users\\choym\\appdata\\local\\programs\\python\\python312\\lib\\site-packages (from httpx<1,>=0.23.0->anthropic) (1.0.5)\n",
            "Requirement already satisfied: h11<0.15,>=0.13 in c:\\users\\choym\\appdata\\local\\programs\\python\\python312\\lib\\site-packages (from httpcore==1.*->httpx<1,>=0.23.0->anthropic) (0.14.0)\n",
            "Requirement already satisfied: annotated-types>=0.6.0 in c:\\users\\choym\\appdata\\local\\programs\\python\\python312\\lib\\site-packages (from pydantic<3,>=1.9.0->anthropic) (0.7.0)\n",
            "Requirement already satisfied: pydantic-core==2.23.4 in c:\\users\\choym\\appdata\\local\\programs\\python\\python312\\lib\\site-packages (from pydantic<3,>=1.9.0->anthropic) (2.23.4)\n",
            "Requirement already satisfied: six>=1.5 in c:\\users\\choym\\appdata\\local\\programs\\python\\python312\\lib\\site-packages (from python-dateutil>=2.8.2->pandas) (1.16.0)\n",
            "Downloading anthropic-0.45.2-py3-none-any.whl (222 kB)\n",
            "Installing collected packages: anthropic\n",
            "Successfully installed anthropic-0.45.2\n",
            "\n"
          ]
        },
        {
          "name": "stderr",
          "output_type": "stream",
          "text": [
            "\n",
            "[notice] A new release of pip is available: 24.2 -> 25.0\n",
            "[notice] To update, run: python.exe -m pip install --upgrade pip\n"
          ]
        }
      ],
      "source": [
        "pip install pandas tqdm anthropic"
      ]
    },
    {
      "cell_type": "code",
      "execution_count": 2,
      "metadata": {
        "colab": {
          "base_uri": "https://localhost:8080/"
        },
        "id": "4tQxSMeEMSgw",
        "outputId": "0b91e3ae-594e-47f4-cf83-812860eac335"
      },
      "outputs": [
        {
          "ename": "ModuleNotFoundError",
          "evalue": "No module named 'google.colab'",
          "output_type": "error",
          "traceback": [
            "\u001b[1;31m---------------------------------------------------------------------------\u001b[0m",
            "\u001b[1;31mModuleNotFoundError\u001b[0m                       Traceback (most recent call last)",
            "Cell \u001b[1;32mIn[2], line 6\u001b[0m\n\u001b[0;32m      4\u001b[0m \u001b[38;5;28;01mfrom\u001b[39;00m \u001b[38;5;21;01mtqdm\u001b[39;00m \u001b[38;5;28;01mimport\u001b[39;00m tqdm\n\u001b[0;32m      5\u001b[0m \u001b[38;5;28;01mfrom\u001b[39;00m \u001b[38;5;21;01manthropic\u001b[39;00m \u001b[38;5;28;01mimport\u001b[39;00m Anthropic\n\u001b[1;32m----> 6\u001b[0m \u001b[38;5;28;01mfrom\u001b[39;00m \u001b[38;5;21;01mgoogle\u001b[39;00m\u001b[38;5;21;01m.\u001b[39;00m\u001b[38;5;21;01mcolab\u001b[39;00m \u001b[38;5;28;01mimport\u001b[39;00m userdata\n\u001b[0;32m      7\u001b[0m \u001b[38;5;66;03m# 1. 定义 24 个分类 + other\u001b[39;00m\n\u001b[0;32m      8\u001b[0m CATEGORIES \u001b[38;5;241m=\u001b[39m [\n\u001b[0;32m      9\u001b[0m     \u001b[38;5;124m\"\u001b[39m\u001b[38;5;124mCorporate and Business Topics\u001b[39m\u001b[38;5;124m\"\u001b[39m,\n\u001b[0;32m     10\u001b[0m     \u001b[38;5;124m\"\u001b[39m\u001b[38;5;124mLabor and Employment Issues\u001b[39m\u001b[38;5;124m\"\u001b[39m,\n\u001b[1;32m   (...)\u001b[0m\n\u001b[0;32m     33\u001b[0m     \u001b[38;5;124m\"\u001b[39m\u001b[38;5;124mother\u001b[39m\u001b[38;5;124m\"\u001b[39m\n\u001b[0;32m     34\u001b[0m ]\n",
            "\u001b[1;31mModuleNotFoundError\u001b[0m: No module named 'google.colab'"
          ]
        }
      ],
      "source": [
        "import os\n",
        "import time\n",
        "import pandas as pd\n",
        "from tqdm import tqdm\n",
        "from anthropic import Anthropic\n",
        "from google.colab import userdata\n",
        "# 1. 定义 24 个分类 + other\n",
        "CATEGORIES = [\n",
        "    \"Corporate and Business Topics\",\n",
        "    \"Labor and Employment Issues\",\n",
        "    \"Privacy, Security, and Cyber Matters\",\n",
        "    \"Legal and Crime Stories\",\n",
        "    \"Government Actions and Regulations\",\n",
        "    \"Technology and Digital Trends\",\n",
        "    \"Environment and Climate Topics\",\n",
        "    \"Social Issues and Activism\",\n",
        "    \"Healthcare and Medicine\",\n",
        "    \"Community and Cultural Events\",\n",
        "    \"International Relations and Trade\",\n",
        "    \"Education and Learning\",\n",
        "    \"Consumer Topics\",\n",
        "    \"Infrastructure and Development\",\n",
        "    \"Energy and Resources\",\n",
        "    \"Political Topics and Protests\",\n",
        "    \"Media and Communication\",\n",
        "    \"Financial Policies and Taxation\",\n",
        "    \"Human Rights and Social Justice\",\n",
        "    \"Science, Research, and Innovation\",\n",
        "    \"Disaster and Crisis Management\",\n",
        "    \"Organized Crime and Trafficking\",\n",
        "    \"Sports, Entertainment, and Leisure\",\n",
        "    \"Military\",\n",
        "    \"other\"\n",
        "]\n",
        "os.environ[\"ANTHROPIC_API_KEY\"] = userdata.get(\"ANTHROPIC_API_KEY\")\n",
        "# 2. 配置 Claude API\n",
        "client = Anthropic(\n",
        "    api_key=os.environ.get(\"ANTHROPIC_API_KEY\")  # 请确保设置环境变量\n",
        ")\n",
        "\n",
        "def classify_text_with_claude(text):\n",
        "    \"\"\"\n",
        "    使用 Claude API 进行文本分类\n",
        "    返回最匹配的类别或 'other'\n",
        "    \"\"\"\n",
        "    prompt = (\n",
        "        \"请从以下 24 个类别中选择最合适的一个类别，如果都不合适就选择 'other'。\\n\"\n",
        "        \"类别列表：\\n\" + \"\\n\".join(CATEGORIES) + \"\\n\\n\"\n",
        "        f\"文本：{text}\\n\"\n",
        "        \"请仅返回最合适的类别名称，不要添加任何其他解释或标点符号：\"\n",
        "    )\n",
        "\n",
        "    try:\n",
        "        response = client.messages.create(\n",
        "            model=\"claude-3-5-sonnet-20241022\",\n",
        "            max_tokens=100,\n",
        "            messages=[{\"role\": \"user\", \"content\": prompt}]\n",
        "        )\n",
        "\n",
        "        category_text = response.content[0].text.strip()\n",
        "\n",
        "        # 验证返回的类别是否在预定义列表中\n",
        "        if category_text in CATEGORIES:\n",
        "            return category_text\n",
        "        return \"other\"\n",
        "\n",
        "    except Exception as e:\n",
        "        print(f\"分类过程中出现错误: {str(e)}\")\n",
        "        return \"other\"\n",
        "\n",
        "# 3. 读取并处理 CSV 文件\n",
        "def process_csv(input_path, output_path):\n",
        "    # 读取CSV文件\n",
        "    df = pd.read_csv(input_path)\n",
        "\n",
        "    # 计算需要处理的行数\n",
        "    rows_to_process = len(df) - 400\n",
        "\n",
        "    # 创建进度条\n",
        "    with tqdm(total=rows_to_process, desc=\"正在分类\") as pbar:\n",
        "        for i in range(400, len(df)):\n",
        "            text_content = df.at[i, \"Text\"]\n",
        "\n",
        "            # 获取分类结果\n",
        "            predicted_category = classify_text_with_claude(text_content)\n",
        "\n",
        "            # 更新DataFrame\n",
        "            df.at[i, \"Theme\"] = predicted_category\n",
        "\n",
        "            # 更新进度条\n",
        "            pbar.update(1)\n",
        "\n",
        "            # 添加延时以符合API限制\n",
        "            time.sleep(1.2)  # 每分钟50个请求，预留一些余量\n",
        "\n",
        "    # 保存结果\n",
        "    df.to_csv(output_path, index=False)\n",
        "    print(f\"分类完成，新文件已保存到 {output_path}\")\n",
        "\n",
        "if __name__ == \"__main__\":\n",
        "    input_path = \"input.csv\"  # 请根据实际文件路径修改\n",
        "    output_path = \"output_classified.csv\"\n",
        "    process_csv(input_path, output_path)"
      ]
    }
  ],
  "metadata": {
    "colab": {
      "provenance": []
    },
    "kernelspec": {
      "display_name": "Python 3",
      "name": "python3"
    },
    "language_info": {
      "codemirror_mode": {
        "name": "ipython",
        "version": 3
      },
      "file_extension": ".py",
      "mimetype": "text/x-python",
      "name": "python",
      "nbconvert_exporter": "python",
      "pygments_lexer": "ipython3",
      "version": "3.12.0"
    }
  },
  "nbformat": 4,
  "nbformat_minor": 0
}
