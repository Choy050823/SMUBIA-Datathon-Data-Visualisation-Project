{
  "cells": [
    {
      "cell_type": "code",
      "execution_count": null,
      "metadata": {
        "colab": {
          "base_uri": "https://localhost:8080/"
        },
        "id": "uO9v2uRxUDFX",
        "outputId": "7df28d6b-2ef9-44f1-9eee-4c209a0a5944"
      },
      "outputs": [],
      "source": [
        "pip install pandas tqdm anthropic"
      ]
    },
    {
      "cell_type": "code",
      "execution_count": null,
      "metadata": {
        "colab": {
          "base_uri": "https://localhost:8080/"
        },
        "id": "4tQxSMeEMSgw",
        "outputId": "0b91e3ae-594e-47f4-cf83-812860eac335"
      },
      "outputs": [],
      "source": [
        "import os\n",
        "import time\n",
        "import pandas as pd\n",
        "from tqdm import tqdm\n",
        "from anthropic import Anthropic\n",
        "from google.colab import userdata\n",
        "# 1. 定义 24 个分类 + other\n",
        "CATEGORIES = [\n",
        "    \"Corporate and Business Topics\",\n",
        "    \"Labor and Employment Issues\",\n",
        "    \"Privacy, Security, and Cyber Matters\",\n",
        "    \"Legal and Crime Stories\",\n",
        "    \"Government Actions and Regulations\",\n",
        "    \"Technology and Digital Trends\",\n",
        "    \"Environment and Climate Topics\",\n",
        "    \"Social Issues and Activism\",\n",
        "    \"Healthcare and Medicine\",\n",
        "    \"Community and Cultural Events\",\n",
        "    \"International Relations and Trade\",\n",
        "    \"Education and Learning\",\n",
        "    \"Consumer Topics\",\n",
        "    \"Infrastructure and Development\",\n",
        "    \"Energy and Resources\",\n",
        "    \"Political Topics and Protests\",\n",
        "    \"Media and Communication\",\n",
        "    \"Financial Policies and Taxation\",\n",
        "    \"Human Rights and Social Justice\",\n",
        "    \"Science, Research, and Innovation\",\n",
        "    \"Disaster and Crisis Management\",\n",
        "    \"Organized Crime and Trafficking\",\n",
        "    \"Sports, Entertainment, and Leisure\",\n",
        "    \"Military\",\n",
        "    \"other\"\n",
        "]\n",
        "os.environ[\"ANTHROPIC_API_KEY\"] = userdata.get(\"ANTHROPIC_API_KEY\")\n",
        "# 2. 配置 Claude API\n",
        "client = Anthropic(\n",
        "    api_key=os.environ.get(\"ANTHROPIC_API_KEY\")  # 请确保设置环境变量\n",
        ")\n",
        "\n",
        "def classify_text_with_claude(text):\n",
        "    \"\"\"\n",
        "    使用 Claude API 进行文本分类\n",
        "    返回最匹配的类别或 'other'\n",
        "    \"\"\"\n",
        "    prompt = (\n",
        "        \"请从以下 24 个类别中选择最合适的一个类别，如果都不合适就选择 'other'。\\n\"\n",
        "        \"类别列表：\\n\" + \"\\n\".join(CATEGORIES) + \"\\n\\n\"\n",
        "        f\"文本：{text}\\n\"\n",
        "        \"请仅返回最合适的类别名称，不要添加任何其他解释或标点符号：\"\n",
        "    )\n",
        "\n",
        "    try:\n",
        "        response = client.messages.create(\n",
        "            model=\"claude-3-5-sonnet-20241022\",\n",
        "            max_tokens=100,\n",
        "            messages=[{\"role\": \"user\", \"content\": prompt}]\n",
        "        )\n",
        "\n",
        "        category_text = response.content[0].text.strip()\n",
        "\n",
        "        # 验证返回的类别是否在预定义列表中\n",
        "        if category_text in CATEGORIES:\n",
        "            return category_text\n",
        "        return \"other\"\n",
        "\n",
        "    except Exception as e:\n",
        "        print(f\"分类过程中出现错误: {str(e)}\")\n",
        "        return \"other\"\n",
        "\n",
        "# 3. 读取并处理 CSV 文件\n",
        "def process_csv(input_path, output_path):\n",
        "    # 读取CSV文件\n",
        "    df = pd.read_csv(input_path)\n",
        "\n",
        "    # 计算需要处理的行数\n",
        "    rows_to_process = len(df) - 400\n",
        "\n",
        "    # 创建进度条\n",
        "    with tqdm(total=rows_to_process, desc=\"正在分类\") as pbar:\n",
        "        for i in range(400, len(df)):\n",
        "            text_content = df.at[i, \"Text\"]\n",
        "\n",
        "            # 获取分类结果\n",
        "            predicted_category = classify_text_with_claude(text_content)\n",
        "\n",
        "            # 更新DataFrame\n",
        "            df.at[i, \"Theme\"] = predicted_category\n",
        "\n",
        "            # 更新进度条\n",
        "            pbar.update(1)\n",
        "\n",
        "            # 添加延时以符合API限制\n",
        "            time.sleep(1.2)  # 每分钟50个请求，预留一些余量\n",
        "\n",
        "    # 保存结果\n",
        "    df.to_csv(output_path, index=False)\n",
        "    print(f\"分类完成，新文件已保存到 {output_path}\")\n",
        "\n",
        "if __name__ == \"__main__\":\n",
        "    input_path = \"input.csv\"  # 请根据实际文件路径修改\n",
        "    output_path = \"output_classified.csv\"\n",
        "    process_csv(input_path, output_path)"
      ]
    }
  ],
  "metadata": {
    "colab": {
      "provenance": []
    },
    "kernelspec": {
      "display_name": "Python 3",
      "name": "python3"
    },
    "language_info": {
      "codemirror_mode": {
        "name": "ipython",
        "version": 3
      },
      "file_extension": ".py",
      "mimetype": "text/x-python",
      "name": "python",
      "nbconvert_exporter": "python",
      "pygments_lexer": "ipython3",
      "version": "3.12.0"
    }
  },
  "nbformat": 4,
  "nbformat_minor": 0
}
