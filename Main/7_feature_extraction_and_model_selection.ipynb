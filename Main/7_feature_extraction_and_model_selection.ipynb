{
 "cells": [
  {
   "cell_type": "markdown",
   "metadata": {},
   "source": [
    "### Import Libraries"
   ]
  },
  {
   "cell_type": "code",
   "execution_count": 1,
   "metadata": {},
   "outputs": [],
   "source": [
    "import pandas as pd\n",
    "import numpy as np\n",
    "from sklearn.feature_extraction.text import TfidfVectorizer\n",
    "from sklearn.metrics import classification_report\n",
    "from sklearn.ensemble import RandomForestClassifier\n",
    "from gensim.models import Word2Vec\n",
    "from nltk.tokenize import word_tokenize\n",
    "from sklearn.linear_model import LogisticRegression\n",
    "from sklearn.metrics import f1_score\n",
    "from sklearn.metrics import classification_report, hamming_loss, f1_score, jaccard_score, accuracy_score\n",
    "import pickle\n",
    "from sklearn.multiclass import OneVsRestClassifier\n",
    "from skmultilearn.problem_transform import LabelPowerset\n",
    "from sklearn.svm import SVC"
   ]
  },
  {
   "cell_type": "markdown",
   "metadata": {},
   "source": [
    "## FEATURE EXTRACTION"
   ]
  },
  {
   "cell_type": "markdown",
   "metadata": {},
   "source": [
    "### Import Data"
   ]
  },
  {
   "cell_type": "code",
   "execution_count": 2,
   "metadata": {},
   "outputs": [],
   "source": [
    "# import a more balance train data\n",
    "test_data = pd.read_csv(\"./Important_Data/7_first_600_manually_add_theme.csv\") \n",
    "train_data = pd.read_csv(\"./Important_Data/8_manually_create_balance_data.csv\") # obtain balance data from the first 600 data manually\n",
    "\n",
    "test_x = test_data[\"summary\"]\n",
    "test_y = test_data[\"theme\"]\n",
    "\n",
    "train_x = train_data[\"summary\"]\n",
    "train_y = train_data[\"theme\"]\n",
    "\n",
    "categories = [\"corporate and business topics\", \n",
    "              \"labor and employment issues\", \n",
    "              \"privacy, security, and cyber matters\", \n",
    "              \"legal and crime stories\", \n",
    "              \"government actions and regulations\", \n",
    "              \"technology and digital trends\", \n",
    "              \"environment and climate topics\", \n",
    "              \"social issues and activism\", \n",
    "              \"healthcare and medicine\", \n",
    "              \"community and cultural events\", \n",
    "              \"international relations and trade\", \n",
    "              \"education and learning\", \n",
    "              \"consumer topics\", \n",
    "              \"infrastructure and development\", \n",
    "              \"energy and resources\", \n",
    "              \"political topics and protests\", \n",
    "              \"media and communication\", \n",
    "              \"financial policies and taxation\", \n",
    "              \"human rights and social justice\", \n",
    "              \"science, research, and innovation\", \n",
    "              \"disaster and crisis management\", \n",
    "              \"organized crime and trafficking\", \n",
    "              \"sports, entertainment, and leisure\", \n",
    "              \"other\", \n",
    "              \"military\"]\n",
    "\n",
    "y_encoded = []\n",
    "for each_theme in train_y:\n",
    "    each_row = []\n",
    "    for category in categories:\n",
    "        if category in each_theme.lower():\n",
    "            each_row.append(1)\n",
    "        else:\n",
    "            each_row.append(0)\n",
    "    y_encoded.append(each_row)\n",
    "\n",
    "# convert to dataframe\n",
    "y_encoded = pd.DataFrame(y_encoded, columns = categories)\n",
    "train_y = y_encoded\n",
    "\n",
    "y_encoded = []\n",
    "for each_theme in test_y:\n",
    "    each_row = []\n",
    "    for category in categories:\n",
    "        if category in each_theme.lower():\n",
    "            each_row.append(1)\n",
    "        else:\n",
    "            each_row.append(0)\n",
    "    y_encoded.append(each_row)\n",
    "\n",
    "y_encoded = pd.DataFrame(y_encoded, columns = categories)\n",
    "test_y = y_encoded   "
   ]
  },
  {
   "cell_type": "markdown",
   "metadata": {},
   "source": [
    "### TFIDF (FINAL)"
   ]
  },
  {
   "cell_type": "code",
   "execution_count": 3,
   "metadata": {},
   "outputs": [
    {
     "name": "stdout",
     "output_type": "stream",
     "text": [
      "Model saved!\n"
     ]
    }
   ],
   "source": [
    "# word pattern\n",
    "pattern = r\"[a-zA-Z]+\"\n",
    "\n",
    "vectorizer = TfidfVectorizer(\n",
    "    token_pattern = pattern, \n",
    "    stop_words = 'english', \n",
    "    ngram_range = (1, 2), # need to do the hyperparameter tuning for this later\n",
    "    max_features = 100000 # can adjust to larger num too\n",
    ")\n",
    "\n",
    "vectorizer.fit(train_data[\"summary\"])\n",
    "\n",
    "\n",
    "# tokenization - create matrix\n",
    "train_tokenized_features = vectorizer.transform(train_data[\"summary\"])\n",
    "test_tokenized_features = vectorizer.transform(test_data[\"summary\"])\n",
    "\n",
    "\n",
    "# create a dataframe\n",
    "train_features = pd.DataFrame(\n",
    "    data = train_tokenized_features.toarray(), \n",
    "    columns = vectorizer.get_feature_names_out()\n",
    ")\n",
    "test_features = pd.DataFrame(\n",
    "    data = test_tokenized_features.toarray(), \n",
    "    columns = vectorizer.get_feature_names_out()\n",
    ")\n",
    "\n",
    "\n",
    "train_data[\"char_count\"] = train_data[\"summary\"].str.count(r\"\\S\")\n",
    "train_data[\"word_count\"] = train_data[\"summary\"].str.count(pattern)\n",
    "train_data[\"avg_word_length\"] = train_data[\"char_count\"] / train_data[\"word_count\"]\n",
    "train_x = pd.concat([train_features, train_data.loc[:, \"char_count\": ]], axis = 1)\n",
    "\n",
    "test_data[\"char_count\"] = test_data[\"summary\"].str.count(r\"\\S\")\n",
    "test_data[\"word_count\"] = test_data[\"summary\"].str.count(pattern)\n",
    "test_data[\"avg_word_length\"] = test_data[\"char_count\"] / test_data[\"word_count\"]\n",
    "test_x = pd.concat([test_features, test_data.loc[:, \"char_count\": ]], axis = 1)\n",
    "\n",
    "# save the model\n",
    "with open(\"./Important_Data/tfidf.pkl\", \"wb\") as f:\n",
    "    pickle.dump(vectorizer, f)\n",
    "print(\"Model saved!\")"
   ]
  },
  {
   "cell_type": "markdown",
   "metadata": {},
   "source": [
    "### Word2Vec"
   ]
  },
  {
   "cell_type": "code",
   "execution_count": 5,
   "metadata": {},
   "outputs": [],
   "source": [
    "# tokenize all the sentences\n",
    "tokenized_sentences = [word_tokenize(each_line[0].lower()) for each_line in train_data[\"summary\"]]\n",
    "\n",
    "# train word2vec model\n",
    "word2vec_model = Word2Vec(\n",
    "    sentences = tokenized_sentences, \n",
    "    vector_size = 1000, \n",
    "    window = 5, \n",
    "    min_count = 1, \n",
    "    workers = 4\n",
    ")\n",
    "\n",
    "# generate document vectors\n",
    "def vectorize_doc(each_line):\n",
    "    # remove out of vocab words\n",
    "    words = [word for word in each_line if word in word2vec_model.wv]\n",
    "    return np.mean(word2vec_model.wv[words], axis = 0) if words else np.zeros(word2vec_model.vector_size)\n",
    "\n",
    "# create feature vectors \n",
    "train_x = np.array([vectorize_doc(word_tokenize(each_line.lower())) for each_line in train_data[\"summary\"]])\n",
    "test_x = np.array([vectorize_doc(word_tokenize(each_line.lower())) for each_line in test_data[\"summary\"]])"
   ]
  },
  {
   "cell_type": "markdown",
   "metadata": {},
   "source": [
    "## MODEL SELECTIONS"
   ]
  },
  {
   "cell_type": "markdown",
   "metadata": {},
   "source": [
    "### Random Forest Classifier (FINAL)"
   ]
  },
  {
   "cell_type": "code",
   "execution_count": 6,
   "metadata": {},
   "outputs": [
    {
     "name": "stdout",
     "output_type": "stream",
     "text": [
      "Model saved!\n"
     ]
    }
   ],
   "source": [
    "model = LabelPowerset(RandomForestClassifier(n_estimators = 100, \n",
    "                                             random_state = 59, \n",
    "                                             max_depth = 20, \n",
    "                                             min_samples_split = 2, \n",
    "                                             min_samples_leaf = 3))\n",
    "model.fit(train_x, train_y)\n",
    "pred = model.predict(test_x)\n",
    "\n",
    "# save the model\n",
    "with open(\"./Important_Data/random_forest_classifier.pkl\", \"wb\") as f:\n",
    "    pickle.dump(model, f)\n",
    "print(\"Model saved!\")\n"
   ]
  },
  {
   "cell_type": "code",
   "execution_count": 8,
   "metadata": {},
   "outputs": [
    {
     "name": "stdout",
     "output_type": "stream",
     "text": [
      "Hamming Loss:  0.08106666666666666\n",
      "F1 Score:  0.03419294412816093\n",
      "Jaccard Score:  0.035833333333333335\n",
      "Accuracy:  0.035\n"
     ]
    }
   ],
   "source": [
    "# print(classification_report(\n",
    "#     test_y, \n",
    "#     pred, \n",
    "#     target_names = categories\n",
    "# ))\n",
    "\n",
    "print(\"Hamming Loss: \", hamming_loss(test_y, pred))\n",
    "print(\"F1 Score: \", f1_score(\n",
    "    test_y, \n",
    "    pred, \n",
    "    average = \"macro\"\n",
    "))\n",
    "print(\"Jaccard Score: \", jaccard_score(\n",
    "    test_y, \n",
    "    pred, \n",
    "    average = \"samples\"\n",
    "))\n",
    "print(\"Accuracy: \", accuracy_score(test_y, pred))"
   ]
  },
  {
   "cell_type": "markdown",
   "metadata": {},
   "source": [
    "### Softmax Regression (One vs All)"
   ]
  },
  {
   "cell_type": "code",
   "execution_count": 9,
   "metadata": {},
   "outputs": [],
   "source": [
    "model = OneVsRestClassifier(LogisticRegression())\n",
    "model.fit(train_x, train_y)\n",
    "\n",
    "prediction = model.predict(test_x)\n",
    "pred = (prediction > 0.001).astype(int)\n",
    "pred_theme = [[categories[i] for i in range(len(categories)) if pred[j, i] == 1] for j in range(len(pred))]"
   ]
  },
  {
   "cell_type": "code",
   "execution_count": 12,
   "metadata": {},
   "outputs": [
    {
     "name": "stdout",
     "output_type": "stream",
     "text": [
      "Hamming Loss:  0.04373333333333333\n",
      "F1 Score:  0.0\n",
      "Accuracy:  0.0033333333333333335\n"
     ]
    }
   ],
   "source": [
    "# print(classification_report(\n",
    "#     test_y, \n",
    "#     pred, \n",
    "#     target_names = categories\n",
    "# ))\n",
    "\n",
    "print(\"Hamming Loss: \", hamming_loss(test_y, pred))\n",
    "print(\"F1 Score: \", f1_score(\n",
    "    test_y, \n",
    "    pred, \n",
    "    average = \"macro\"\n",
    "))\n",
    "# print(\"Jaccard Score: \", jaccard_score(\n",
    "#     test_y, \n",
    "#     pred, \n",
    "#     average = \"samples\"\n",
    "# ))\n",
    "print(\"Accuracy: \", accuracy_score(test_y, pred))"
   ]
  },
  {
   "cell_type": "markdown",
   "metadata": {},
   "source": [
    "### Support Vector Machine (SVM)"
   ]
  },
  {
   "cell_type": "code",
   "execution_count": 13,
   "metadata": {},
   "outputs": [],
   "source": [
    "model = SVC(kernel = 'rbf',\n",
    "            )\n",
    "\n",
    "model = LabelPowerset(model)\n",
    "\n",
    "model.fit(train_x, train_y)\n",
    "\n",
    "pred = model.predict(test_x)"
   ]
  },
  {
   "cell_type": "code",
   "execution_count": 15,
   "metadata": {},
   "outputs": [
    {
     "name": "stdout",
     "output_type": "stream",
     "text": [
      "Hamming Loss:  0.09613333333333333\n",
      "F1 Score:  0.03134436775816086\n",
      "Jaccard Score:  0.07666666666666666\n",
      "Accuracy:  0.023333333333333334\n"
     ]
    }
   ],
   "source": [
    "# print(classification_report(\n",
    "#     test_y, \n",
    "#     pred, \n",
    "#     target_names = categories\n",
    "# ))\n",
    "\n",
    "print(\"Hamming Loss: \", hamming_loss(test_y, pred))\n",
    "print(\"F1 Score: \", f1_score(\n",
    "    test_y, \n",
    "    pred, \n",
    "    average = \"macro\"\n",
    "))\n",
    "print(\"Jaccard Score: \", jaccard_score(\n",
    "    test_y, \n",
    "    pred, \n",
    "    average = \"samples\"\n",
    "))\n",
    "print(\"Accuracy: \", accuracy_score(test_y, pred))"
   ]
  }
 ],
 "metadata": {
  "kernelspec": {
   "display_name": "Python 3",
   "language": "python",
   "name": "python3"
  },
  "language_info": {
   "codemirror_mode": {
    "name": "ipython",
    "version": 3
   },
   "file_extension": ".py",
   "mimetype": "text/x-python",
   "name": "python",
   "nbconvert_exporter": "python",
   "pygments_lexer": "ipython3",
   "version": "3.12.1"
  }
 },
 "nbformat": 4,
 "nbformat_minor": 2
}
